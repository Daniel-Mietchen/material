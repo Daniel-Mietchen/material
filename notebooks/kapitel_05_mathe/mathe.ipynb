{
 "cells": [
  {
   "cell_type": "markdown",
   "metadata": {},
   "source": [
    "# Ein bisschen Mathe – So viel Spaß muss sein\n",
    "\n",
    "\n",
    "Dieses Jupyter-Notebook enthält den Quelltext für Kapitel 5 »Ein bisschen Mathe – So viel Spaß muss sein\n",
    "« im Buch [Python für Ingenieure für Dummies](https://python-fuer-ingenieure.de/).\n"
   ]
  },
  {
   "cell_type": "code",
   "execution_count": 1,
   "metadata": {},
   "outputs": [],
   "source": [
    "# sorgt dafür, dass, wenn die letzte Zeile eine Zuweisung ist, deren Ergebnis auch ausgegeben wird\n",
    "%config InteractiveShell.ast_node_interactivity='last_expr_or_assign'"
   ]
  },
  {
   "cell_type": "code",
   "execution_count": 2,
   "metadata": {},
   "outputs": [],
   "source": [
    "import numpy as np\n",
    "import matplotlib.pyplot as plt\n",
    "import matplotlib\n",
    "import sys\n",
    "sys.path.append(\"../util\")\n",
    "from pfi_util import define_plot_params, show_book\n",
    "\n",
    "orig_plt_rcParams, double_plt_rcParams = define_plot_params(plt)"
   ]
  },
  {
   "cell_type": "markdown",
   "metadata": {},
   "source": [
    "### Komplexe Zahlen"
   ]
  },
  {
   "cell_type": "markdown",
   "metadata": {},
   "source": [
    "`begin cmath1`"
   ]
  },
  {
   "cell_type": "code",
   "execution_count": 3,
   "metadata": {},
   "outputs": [
    {
     "data": {
      "text/plain": [
       "(8+2j)"
      ]
     },
     "execution_count": 3,
     "metadata": {},
     "output_type": "execute_result"
    }
   ],
   "source": [
    "# Komplexe Zahl anlegen\n",
    "z = 8 + 2j"
   ]
  },
  {
   "cell_type": "code",
   "execution_count": 4,
   "metadata": {},
   "outputs": [
    {
     "data": {
      "text/plain": [
       "complex"
      ]
     },
     "execution_count": 4,
     "metadata": {},
     "output_type": "execute_result"
    }
   ],
   "source": [
    "type(z)"
   ]
  },
  {
   "cell_type": "code",
   "execution_count": 5,
   "metadata": {},
   "outputs": [
    {
     "data": {
      "text/plain": [
       "5.9j"
      ]
     },
     "execution_count": 5,
     "metadata": {},
     "output_type": "execute_result"
    }
   ],
   "source": [
    "#_\n",
    "# geht auch ohne Realteil und mit float als Imaginärteil\n",
    "z = 5.9j"
   ]
  },
  {
   "cell_type": "code",
   "execution_count": 6,
   "metadata": {},
   "outputs": [
    {
     "name": "stdout",
     "output_type": "stream",
     "text": [
      "NameError: name 'j' is not defined\n"
     ]
    }
   ],
   "source": [
    "#_\n",
    "# j alleine geht nicht (steht für einen normalen Variablennamen)\n",
    "#!j\n",
    "print(\"NameError: name 'j' is not defined\") #!"
   ]
  },
  {
   "cell_type": "markdown",
   "metadata": {},
   "source": [
    "`end cmath1`"
   ]
  },
  {
   "cell_type": "markdown",
   "metadata": {},
   "source": [
    "`begin cmath2`"
   ]
  },
  {
   "cell_type": "code",
   "execution_count": 7,
   "metadata": {},
   "outputs": [
    {
     "data": {
      "text/plain": [
       "(0.0, 5.9)"
      ]
     },
     "execution_count": 7,
     "metadata": {},
     "output_type": "execute_result"
    }
   ],
   "source": [
    "z.real, z.imag"
   ]
  },
  {
   "cell_type": "code",
   "execution_count": 8,
   "metadata": {},
   "outputs": [
    {
     "data": {
      "text/plain": [
       "(float, float)"
      ]
     },
     "execution_count": 8,
     "metadata": {},
     "output_type": "execute_result"
    }
   ],
   "source": [
    "type(z.real), type(z.imag)"
   ]
  },
  {
   "cell_type": "code",
   "execution_count": 9,
   "metadata": {},
   "outputs": [
    {
     "name": "stdout",
     "output_type": "stream",
     "text": [
      "AttributeError: readonly attribute\n"
     ]
    }
   ],
   "source": [
    "#_\n",
    "#!z.real = 0\n",
    "print(\"AttributeError: readonly attribute\") #!"
   ]
  },
  {
   "cell_type": "markdown",
   "metadata": {},
   "source": [
    "`end cmath2`"
   ]
  },
  {
   "cell_type": "markdown",
   "metadata": {},
   "source": [
    "`begin cmath3`"
   ]
  },
  {
   "cell_type": "code",
   "execution_count": 10,
   "metadata": {},
   "outputs": [],
   "source": [
    "import cmath"
   ]
  },
  {
   "cell_type": "code",
   "execution_count": 11,
   "metadata": {},
   "outputs": [
    {
     "data": {
      "text/plain": [
       "(5.0, 0.9272952180016122)"
      ]
     },
     "execution_count": 11,
     "metadata": {},
     "output_type": "execute_result"
    }
   ],
   "source": [
    "#_\n",
    "# Betrag und Phase bestimmen (als 2-Tupel)\n",
    "cmath.polar(3 + 4j)"
   ]
  },
  {
   "cell_type": "code",
   "execution_count": 12,
   "metadata": {},
   "outputs": [
    {
     "data": {
      "text/plain": [
       "0.7853981633974483"
      ]
     },
     "execution_count": 12,
     "metadata": {},
     "output_type": "execute_result"
    }
   ],
   "source": [
    "#_\n",
    "# Phase allein\n",
    "phi = cmath.phase(10 + 10j)"
   ]
  },
  {
   "cell_type": "code",
   "execution_count": 13,
   "metadata": {},
   "outputs": [
    {
     "data": {
      "text/plain": [
       "0.25"
      ]
     },
     "execution_count": 13,
     "metadata": {},
     "output_type": "execute_result"
    }
   ],
   "source": [
    "phi/cmath.pi"
   ]
  },
  {
   "cell_type": "markdown",
   "metadata": {},
   "source": [
    "`end cmath3`"
   ]
  },
  {
   "cell_type": "code",
   "execution_count": 14,
   "metadata": {},
   "outputs": [],
   "source": [
    "import numpy as np"
   ]
  },
  {
   "cell_type": "markdown",
   "metadata": {},
   "source": [
    "`begin cnp1`"
   ]
  },
  {
   "cell_type": "code",
   "execution_count": 15,
   "metadata": {},
   "outputs": [
    {
     "data": {
      "text/plain": [
       "array([ 1.+0.j,  0.+1.j,  1.+1.j, -1.+1.j])"
      ]
     },
     "execution_count": 15,
     "metadata": {},
     "output_type": "execute_result"
    }
   ],
   "source": [
    "zz = np.array([1, 1j, 1+1j, -1+1j])"
   ]
  },
  {
   "cell_type": "code",
   "execution_count": 16,
   "metadata": {},
   "outputs": [
    {
     "data": {
      "text/plain": [
       "dtype('complex128')"
      ]
     },
     "execution_count": 16,
     "metadata": {},
     "output_type": "execute_result"
    }
   ],
   "source": [
    "zz.dtype"
   ]
  },
  {
   "cell_type": "code",
   "execution_count": 17,
   "metadata": {},
   "outputs": [],
   "source": [
    "# Datentyp hat 128 Bit, weil er sich aus\n",
    "# zwei 64-Bit-float-Objekten zusammensetzt"
   ]
  },
  {
   "cell_type": "code",
   "execution_count": 18,
   "metadata": {},
   "outputs": [
    {
     "data": {
      "text/plain": [
       "array([ 1.,  0.,  1., -1.])"
      ]
     },
     "execution_count": 18,
     "metadata": {},
     "output_type": "execute_result"
    }
   ],
   "source": [
    "#_\n",
    "# Zwei Möglichkeiten für Zugriff auf Realteil\n",
    "np.real(zz)\n",
    "zz.real"
   ]
  },
  {
   "cell_type": "code",
   "execution_count": 19,
   "metadata": {},
   "outputs": [
    {
     "data": {
      "text/plain": [
       "array([0., 1., 1., 1.])"
      ]
     },
     "execution_count": 19,
     "metadata": {},
     "output_type": "execute_result"
    }
   ],
   "source": [
    "#_\n",
    "# Zwei Möglichkeiten für Zugriff auf Imaginärteil\n",
    "np.imag(zz)\n",
    "zz.imag"
   ]
  },
  {
   "cell_type": "code",
   "execution_count": 20,
   "metadata": {},
   "outputs": [
    {
     "data": {
      "text/plain": [
       "array([1.        , 1.        , 1.41421356, 1.41421356])"
      ]
     },
     "execution_count": 20,
     "metadata": {},
     "output_type": "execute_result"
    }
   ],
   "source": [
    "np.abs(zz) # Betrag"
   ]
  },
  {
   "cell_type": "code",
   "execution_count": 21,
   "metadata": {},
   "outputs": [
    {
     "data": {
      "text/plain": [
       "array([0.        , 1.57079633, 0.78539816, 2.35619449])"
      ]
     },
     "execution_count": 21,
     "metadata": {},
     "output_type": "execute_result"
    }
   ],
   "source": [
    "np.angle(zz) # \"Argument\" bzw. \"Phase\""
   ]
  },
  {
   "cell_type": "code",
   "execution_count": 22,
   "metadata": {},
   "outputs": [
    {
     "data": {
      "text/plain": [
       "array([0.  , 0.5 , 0.25, 0.75])"
      ]
     },
     "execution_count": 22,
     "metadata": {},
     "output_type": "execute_result"
    }
   ],
   "source": [
    "np.angle(zz)/np.pi"
   ]
  },
  {
   "cell_type": "markdown",
   "metadata": {},
   "source": [
    "`end cnp1`"
   ]
  },
  {
   "cell_type": "markdown",
   "metadata": {},
   "source": [
    "Beispiel: Komplexer Spannungsteiler"
   ]
  },
  {
   "cell_type": "markdown",
   "metadata": {},
   "source": [
    "`begin cnp2`"
   ]
  },
  {
   "cell_type": "code",
   "execution_count": 23,
   "metadata": {},
   "outputs": [
    {
     "data": {
      "text/plain": [
       "(9.101698376462753-2.859382875468554j)"
      ]
     },
     "execution_count": 23,
     "metadata": {},
     "output_type": "execute_result"
    }
   ],
   "source": [
    "# Größen mit Einheiten\n",
    "U0 = 10 # Volt\n",
    "omega = 50*2*np.pi # Sekunde**-1\n",
    "R = 100 # Ohm\n",
    "L = 0.1 # Henry\n",
    "#_\n",
    "# Realteil und Imaginärteil\n",
    "U1 = R/(R + 1j*omega*L)*U0"
   ]
  },
  {
   "cell_type": "code",
   "execution_count": 24,
   "metadata": {},
   "outputs": [
    {
     "data": {
      "text/plain": [
       "9.540282163784651"
      ]
     },
     "execution_count": 24,
     "metadata": {},
     "output_type": "execute_result"
    }
   ],
   "source": [
    "#_\n",
    "# Betrag\n",
    "np.abs(U1)"
   ]
  },
  {
   "cell_type": "code",
   "execution_count": 25,
   "metadata": {},
   "outputs": [
    {
     "data": {
      "text/plain": [
       "-17.440594490511877"
      ]
     },
     "execution_count": 25,
     "metadata": {},
     "output_type": "execute_result"
    }
   ],
   "source": [
    "# Phase (bzw. Phasenverschiebung) in Grad umgerechnet\n",
    "np.angle(U1)*180/np.pi"
   ]
  },
  {
   "cell_type": "markdown",
   "metadata": {},
   "source": [
    "`end cnp2`"
   ]
  },
  {
   "cell_type": "markdown",
   "metadata": {},
   "source": [
    "`begin cnp3`"
   ]
  },
  {
   "cell_type": "code",
   "execution_count": 26,
   "metadata": {},
   "outputs": [],
   "source": [
    "# U1 für viele Werte berechnen\n",
    "oomega = np.logspace(-2, 5, 1000) # 1000 Werte in [1e-2, 1e4]\n",
    "UU1 = R/(R + 1j*oomega*L)*U0\n",
    "pass #!"
   ]
  },
  {
   "cell_type": "code",
   "execution_count": 27,
   "metadata": {},
   "outputs": [],
   "source": [
    "# grafische Darstellung; Details siehe Kapitel 7\n",
    "from matplotlib import pyplot as plt"
   ]
  },
  {
   "cell_type": "code",
   "execution_count": 28,
   "metadata": {},
   "outputs": [
    {
     "data": {
      "image/png": "[encoded data removed]",
      "text/plain": [
       "<Figure size 432x288 with 1 Axes>"
      ]
     },
     "metadata": {
      "needs_background": "light"
     },
     "output_type": "display_data"
    }
   ],
   "source": [
    "# im Buch ausgeblendet: Grafik-Verbesserungen #!\n",
    "plt.axis(\"equal\") #!\n",
    "plt.plot([-10, 20], [0, 0], \"k-\", linewidth=0.5) # reele Achse #!\n",
    "plt.plot([0, 0], [-20, 20], \"k-\", linewidth=0.5) # imag. Achse #!\n",
    "plt.axis([-1, 11, -7, 3]) #!\n",
    "plt.xlabel(\"$\\mathrm{Re}(U_1)$\") #!\n",
    "plt.ylabel(\"$\\mathrm{Imag}(U_1)$\") #!\n",
    "# #!\n",
    "plt.plot(np.real(UU1), np.imag(UU1), lw=3)\n",
    "show_book(\"ortskurve_rl\", bbox_inches=\"tight\") #!"
   ]
  },
  {
   "cell_type": "markdown",
   "metadata": {},
   "source": [
    "`end cnp3`"
   ]
  },
  {
   "cell_type": "markdown",
   "metadata": {},
   "source": [
    "`begin cnp4`"
   ]
  },
  {
   "cell_type": "code",
   "execution_count": 29,
   "metadata": {},
   "outputs": [
    {
     "data": {
      "image/png": "[encoded data removed]",
      "text/plain": [
       "<Figure size 432x288 with 1 Axes>"
      ]
     },
     "metadata": {
      "needs_background": "light"
     },
     "output_type": "display_data"
    }
   ],
   "source": [
    "UU1_abs = np.abs(UU1)\n",
    "#_\n",
    "plt.semilogx(oomega, 20*np.log10(UU1_abs/U0))\n",
    "plt.ylabel(r\"$\\left|\\frac{U_1}{U_0}\\right|_{\\mathrm{dB}} = 20 \\log (|U_1|/U_0)$\") #!\n",
    "plt.xlabel(r\"$\\omega$ in rad/s\") #!\n",
    "show_book(\"bode_betrag_rl\", printflag=False, bbox_inches=\"tight\") #!"
   ]
  },
  {
   "cell_type": "code",
   "execution_count": 30,
   "metadata": {},
   "outputs": [
    {
     "data": {
      "image/png": "[encoded data removed]",
      "text/plain": [
       "<Figure size 432x288 with 1 Axes>"
      ]
     },
     "metadata": {
      "needs_background": "light"
     },
     "output_type": "display_data"
    }
   ],
   "source": [
    "UU1_phase = np.angle(UU1)\n",
    "#_\n",
    "plt.semilogx(oomega, UU1_phase/np.pi*180)\n",
    "plt.ylabel(r\"$\\arg (U_1)$ in ${}^\\circ$\") #!\n",
    "plt.xlabel(r\"$\\omega$ in rad/s\") #!\n",
    "show_book(\"bode_phase_rl\", bbox_inches=\"tight\") #!"
   ]
  },
  {
   "cell_type": "markdown",
   "metadata": {},
   "source": [
    "`end cnp4`"
   ]
  },
  {
   "cell_type": "code",
   "execution_count": 31,
   "metadata": {},
   "outputs": [
    {
     "data": {
      "text/plain": [
       "array([1.000e-02, 1.002e+01, 2.003e+01, 3.004e+01])"
      ]
     },
     "execution_count": 31,
     "metadata": {},
     "output_type": "execute_result"
    }
   ],
   "source": [
    "# Motivation für logspace\n",
    "\n",
    "np.linspace(1e-2, 1e4, 1000)[:4]"
   ]
  },
  {
   "cell_type": "markdown",
   "metadata": {},
   "source": [
    "### Lineare Algebra"
   ]
  },
  {
   "cell_type": "markdown",
   "metadata": {},
   "source": [
    "`begin lgs1`"
   ]
  },
  {
   "cell_type": "code",
   "execution_count": 32,
   "metadata": {},
   "outputs": [
    {
     "data": {
      "text/plain": [
       "array([[1.   , 1.   ],\n",
       "       [0.05 , 0.001]])"
      ]
     },
     "execution_count": 32,
     "metadata": {},
     "output_type": "execute_result"
    }
   ],
   "source": [
    "A = np.array([[1, 1], [0.05, .001]])"
   ]
  },
  {
   "cell_type": "code",
   "execution_count": 33,
   "metadata": {},
   "outputs": [
    {
     "data": {
      "text/plain": [
       "array([100,   3])"
      ]
     },
     "execution_count": 33,
     "metadata": {},
     "output_type": "execute_result"
    }
   ],
   "source": [
    "bb = np.array([100, 3])"
   ]
  },
  {
   "cell_type": "code",
   "execution_count": 34,
   "metadata": {},
   "outputs": [
    {
     "data": {
      "text/plain": [
       "array([59.18367347, 40.81632653])"
      ]
     },
     "execution_count": 34,
     "metadata": {},
     "output_type": "execute_result"
    }
   ],
   "source": [
    "xx = np.linalg.solve(A, bb)"
   ]
  },
  {
   "cell_type": "markdown",
   "metadata": {},
   "source": [
    "`end lgs1`"
   ]
  },
  {
   "cell_type": "code",
   "execution_count": 35,
   "metadata": {},
   "outputs": [],
   "source": [
    "# reproduzierbare Ergebnisse bewirken\n",
    "np.random.seed(10)"
   ]
  },
  {
   "cell_type": "markdown",
   "metadata": {},
   "source": [
    "`begin lgs2a`"
   ]
  },
  {
   "cell_type": "code",
   "execution_count": 36,
   "metadata": {},
   "outputs": [],
   "source": [
    "n = 1000\n",
    "A2 = np.random.rand(n, n)\n",
    "bb2 = np.random.rand(n)\n",
    "pass #!\n",
    "#_"
   ]
  },
  {
   "cell_type": "code",
   "execution_count": 37,
   "metadata": {},
   "outputs": [
    {
     "name": "stdout",
     "output_type": "stream",
     "text": [
      "46.4 ms ± 10 ms per loop (mean ± std. dev. of 7 runs, 10 loops each)\n"
     ]
    }
   ],
   "source": [
    "#!%%timeit\n",
    "# empfehlenswert (schnell)\n",
    "xx2_1 = np.linalg.solve(A2, bb2)\n",
    "# #!\n",
    "# timeit-Meldung hart kodieren, für Reproduzierbarkeit der Schnipsel unabhängig vom ausführenden Rechner #!\n",
    "print(\"46.4 ms ± 10 ms per loop (mean ± std. dev. of 7 runs, 10 loops each)\") #!"
   ]
  },
  {
   "cell_type": "code",
   "execution_count": 38,
   "metadata": {},
   "outputs": [],
   "source": [
    "#_"
   ]
  },
  {
   "cell_type": "code",
   "execution_count": 39,
   "metadata": {},
   "outputs": [
    {
     "name": "stdout",
     "output_type": "stream",
     "text": [
      "143 ms ± 15.7 ms per loop (mean ± std. dev. of 7 runs, 1 loop each)\n"
     ]
    }
   ],
   "source": [
    "#!%%timeit\n",
    "# nicht empfehlenswert (langsam, speicherintensiv)\n",
    "A2inv = np.linalg.inv(A2)\n",
    "xx2_2 = A2inv@bb2\n",
    "# timeit-Meldung hart kodieren, wie oben #!\n",
    "print(\"143 ms ± 15.7 ms per loop (mean ± std. dev. of 7 runs, 1 loop each)\") #!"
   ]
  },
  {
   "cell_type": "markdown",
   "metadata": {},
   "source": [
    "`end lgs2a`"
   ]
  },
  {
   "cell_type": "code",
   "execution_count": 40,
   "metadata": {},
   "outputs": [
    {
     "name": "stdout",
     "output_type": "stream",
     "text": [
      "166 ms ± 10.4 ms per loop (mean ± std. dev. of 7 runs, 10 loops each)\n"
     ]
    }
   ],
   "source": [
    "%%timeit\n",
    "\n",
    "# 1. echte Zeitmessung zum Vergleich (außerhalb des Buch-Schnipsels)\n",
    "\n",
    "# empfehlenswert (schnell)\n",
    "xx2_1 = np.linalg.solve(A2, bb2)"
   ]
  },
  {
   "cell_type": "code",
   "execution_count": 41,
   "metadata": {},
   "outputs": [
    {
     "name": "stdout",
     "output_type": "stream",
     "text": [
      "908 ms ± 88.1 ms per loop (mean ± std. dev. of 7 runs, 1 loop each)\n"
     ]
    }
   ],
   "source": [
    "%%timeit\n",
    "\n",
    "# 2. echte Zeitmessung zum Vergleich (außerhalb des Buch-Schnipsels)\n",
    "\n",
    "# nicht empfehlenswert (langsam, speicherintensiv)\n",
    "A2inv = np.linalg.inv(A2)\n",
    "xx2_2 = A2inv@bb2"
   ]
  },
  {
   "cell_type": "code",
   "execution_count": 42,
   "metadata": {},
   "outputs": [],
   "source": [
    "# Weil in timeit-Zellen die Zuweisungen nicht gespeichert werden: Wiederholung der entsprechenden Rechnungen\n",
    "\n",
    "xx2_1 = np.linalg.solve(A2, bb2)\n",
    "\n",
    "A2inv = np.linalg.inv(A2)\n",
    "xx2_2 = A2inv@bb2\n",
    "pass"
   ]
  },
  {
   "cell_type": "markdown",
   "metadata": {},
   "source": [
    "`begin lgs3`"
   ]
  },
  {
   "cell_type": "code",
   "execution_count": 43,
   "metadata": {},
   "outputs": [
    {
     "data": {
      "text/plain": [
       "2.5431540833984903e-22"
      ]
     },
     "execution_count": 43,
     "metadata": {},
     "output_type": "execute_result"
    }
   ],
   "source": [
    "# Probe: Summe der quadratischen Fehler berechnen\n",
    "np.sum((A2@xx2_1 - bb2)**2)"
   ]
  },
  {
   "cell_type": "code",
   "execution_count": 44,
   "metadata": {},
   "outputs": [
    {
     "data": {
      "text/plain": [
       "8.81767837684254e-22"
      ]
     },
     "execution_count": 44,
     "metadata": {},
     "output_type": "execute_result"
    }
   ],
   "source": [
    "np.sum((A2@xx2_2 - bb2)**2)"
   ]
  },
  {
   "cell_type": "markdown",
   "metadata": {},
   "source": [
    "`end lgs3`"
   ]
  },
  {
   "cell_type": "markdown",
   "metadata": {},
   "source": [
    "`begin lgs4`"
   ]
  },
  {
   "cell_type": "code",
   "execution_count": 45,
   "metadata": {},
   "outputs": [
    {
     "data": {
      "text/plain": [
       "array([12.5, 37.5])"
      ]
     },
     "execution_count": 45,
     "metadata": {},
     "output_type": "execute_result"
    }
   ],
   "source": [
    "A = np.array([[0.1, 0.1], [0.16, 0.08]])\n",
    "bb = np.array([5, 5])\n",
    "xx = np.linalg.solve(A, bb)"
   ]
  },
  {
   "cell_type": "markdown",
   "metadata": {},
   "source": [
    "`end lgs4`"
   ]
  },
  {
   "cell_type": "markdown",
   "metadata": {},
   "source": [
    "`begin lgs5`"
   ]
  },
  {
   "cell_type": "code",
   "execution_count": 46,
   "metadata": {},
   "outputs": [
    {
     "data": {
      "text/plain": [
       "array([[0.16, 0.08],\n",
       "       [0.48, 0.24]])"
      ]
     },
     "execution_count": 46,
     "metadata": {},
     "output_type": "execute_result"
    }
   ],
   "source": [
    "# np.row_stack \"stapelt\" Zeilen übereinander\n",
    "# hier: 2. Zeile von A und eine neue Zeile\n",
    "A2 = np.row_stack((A[1:, :], [0.48, 0.24]))"
   ]
  },
  {
   "cell_type": "code",
   "execution_count": 47,
   "metadata": {},
   "outputs": [
    {
     "data": {
      "text/plain": [
       "array([ 5, 15])"
      ]
     },
     "execution_count": 47,
     "metadata": {},
     "output_type": "execute_result"
    }
   ],
   "source": [
    "bb2 = np.array([bb[1], 15])"
   ]
  },
  {
   "cell_type": "code",
   "execution_count": 48,
   "metadata": {},
   "outputs": [
    {
     "name": "stdout",
     "output_type": "stream",
     "text": [
      "LinAlgError: Singular matrix\n"
     ]
    }
   ],
   "source": [
    "#_\n",
    "#!np.linalg.solve(A2, bb2)\n",
    "print(\"LinAlgError: Singular matrix\") #!"
   ]
  },
  {
   "cell_type": "markdown",
   "metadata": {},
   "source": [
    "`end lgs5`"
   ]
  },
  {
   "cell_type": "code",
   "execution_count": 49,
   "metadata": {},
   "outputs": [
    {
     "data": {
      "text/plain": [
       "9.625000000000002"
      ]
     },
     "execution_count": 49,
     "metadata": {},
     "output_type": "execute_result"
    }
   ],
   "source": [
    "# Nebenrechungen (nicht ins Buch)\n",
    "\n",
    "# Nominalwerte bei 450 K (Faktor 8 bei R1)\n",
    "\n",
    "U = 10\n",
    "I = U/(np.array([8, 1])@xx)\n",
    "\n",
    "0.07* np.array([8, 1])@xx"
   ]
  },
  {
   "cell_type": "markdown",
   "metadata": {},
   "source": [
    "Das folgende Beispiel erzeugt (ohne weitere Maßname) aktuell (numpy version '1.19.1') eine FutureWarning, weil sich in der nächsten Version das Standard-Verhlaten des optionalen dritten Arguments von `np.linalg.lstsq` ändert. Dieses Argument spezifiziert eine Schwelle unterhalb derer kleine Singulärwerte der Koeffizientenmatrix als Null aufgefasst werden. Durch die folgende Zelle wird das neue Verhalten erreicht, ohne dass das im Buch-Beispiel explizit sichtbar ist (und Erklärungsbedarf verursacht)."
   ]
  },
  {
   "cell_type": "code",
   "execution_count": 50,
   "metadata": {},
   "outputs": [],
   "source": [
    "import importlib\n",
    "importlib.reload(np.linalg)\n",
    "from numpy.linalg import lstsq as original_lstsq\n",
    "\n",
    "def new_lstsq(A, b):\n",
    "    return original_lstsq(A, b, rcond=None)\n",
    "\n",
    "np.linalg.lstsq = new_lstsq"
   ]
  },
  {
   "cell_type": "markdown",
   "metadata": {},
   "source": [
    "`begin lgs6`"
   ]
  },
  {
   "cell_type": "code",
   "execution_count": 51,
   "metadata": {},
   "outputs": [
    {
     "data": {
      "text/plain": [
       "(array([12.5, 37.5]),\n",
       " array([], dtype=float64),\n",
       " 2,\n",
       " array([0.22525238, 0.03551572]))"
      ]
     },
     "execution_count": 51,
     "metadata": {},
     "output_type": "execute_result"
    }
   ],
   "source": [
    "# komplette Koeff.-Matrix A\n",
    "Acompl = np.array([[0.1, 0.1],\n",
    "                   [0.16, 0.08],\n",
    "                   [0.48, 0.24],\n",
    "                   [0.56, 0.07]])\n",
    "# kompletter Vektor für rechte Seite b\n",
    "bbcompl = np.array([5, 5, 15, 10])\n",
    "#_\n",
    "# erst mal nur regulären Fall betrachten\n",
    "# (Zeilen-Indizes 0 bis 1):\n",
    "res = np.linalg.lstsq(Acompl[:2, :], bbcompl[:2])"
   ]
  },
  {
   "cell_type": "code",
   "execution_count": 52,
   "metadata": {},
   "outputs": [
    {
     "data": {
      "text/plain": [
       "array([12.5, 37.5])"
      ]
     },
     "execution_count": 52,
     "metadata": {},
     "output_type": "execute_result"
    }
   ],
   "source": [
    "xx1 = res[0]"
   ]
  },
  {
   "cell_type": "markdown",
   "metadata": {},
   "source": [
    "`end lgs6`"
   ]
  },
  {
   "cell_type": "markdown",
   "metadata": {},
   "source": [
    "`begin lgs7`"
   ]
  },
  {
   "cell_type": "code",
   "execution_count": 53,
   "metadata": {},
   "outputs": [
    {
     "data": {
      "text/plain": [
       "(array([25. , 12.5]),\n",
       " array([], dtype=float64),\n",
       " 1,\n",
       " array([5.65685425e-01, 2.48253415e-17]))"
      ]
     },
     "execution_count": 53,
     "metadata": {},
     "output_type": "execute_result"
    }
   ],
   "source": [
    "# singulärer Fall (Zeilen-Indizes 1 bis 2):\n",
    "res = np.linalg.lstsq(Acompl[1:3, :], bbcompl[1:3])"
   ]
  },
  {
   "cell_type": "code",
   "execution_count": 54,
   "metadata": {},
   "outputs": [
    {
     "data": {
      "text/plain": [
       "array([25. , 12.5])"
      ]
     },
     "execution_count": 54,
     "metadata": {},
     "output_type": "execute_result"
    }
   ],
   "source": [
    "#_\n",
    "# Probe:\n",
    "xx2 = res[0]"
   ]
  },
  {
   "cell_type": "code",
   "execution_count": 55,
   "metadata": {},
   "outputs": [
    {
     "data": {
      "text/plain": [
       "array([ 5., 15.])"
      ]
     },
     "execution_count": 55,
     "metadata": {},
     "output_type": "execute_result"
    }
   ],
   "source": [
    "Acompl[1:3, :]@xx2"
   ]
  },
  {
   "cell_type": "code",
   "execution_count": 56,
   "metadata": {},
   "outputs": [],
   "source": [
    "# -> die 2. und die 3. Gleichung sind durch xx2 erfüllt"
   ]
  },
  {
   "cell_type": "markdown",
   "metadata": {},
   "source": [
    "`end lgs7`"
   ]
  },
  {
   "cell_type": "code",
   "execution_count": 57,
   "metadata": {},
   "outputs": [
    {
     "data": {
      "text/plain": [
       "(781.2499999999998, 1562.5)"
      ]
     },
     "execution_count": 57,
     "metadata": {},
     "output_type": "execute_result"
    }
   ],
   "source": [
    "# Exemplarischer Test, ob |xx2| wirklich kleiner ist als von anderen Lösungen:\n",
    "sum(xx2**2), sum(xx**2), "
   ]
  },
  {
   "cell_type": "markdown",
   "metadata": {},
   "source": [
    "`begin lgs8`"
   ]
  },
  {
   "cell_type": "code",
   "execution_count": 58,
   "metadata": {},
   "outputs": [
    {
     "data": {
      "text/plain": [
       "(array([13.33161207, 35.96499798]),\n",
       " array([0.00628027]),\n",
       " 2,\n",
       " array([0.79747503, 0.15011189]))"
      ]
     },
     "execution_count": 58,
     "metadata": {},
     "output_type": "execute_result"
    }
   ],
   "source": [
    "# überbestimmtes Gleichungssystem (Alle Zeilen, Indizes 0 bis 3):\n",
    "res = np.linalg.lstsq(Acompl, bbcompl)"
   ]
  },
  {
   "cell_type": "code",
   "execution_count": 59,
   "metadata": {},
   "outputs": [
    {
     "data": {
      "text/plain": [
       "array([13.33161207, 35.96499798])"
      ]
     },
     "execution_count": 59,
     "metadata": {},
     "output_type": "execute_result"
    }
   ],
   "source": [
    "#_\n",
    "# Probe\n",
    "xx3 = res[0]"
   ]
  },
  {
   "cell_type": "code",
   "execution_count": 60,
   "metadata": {},
   "outputs": [
    {
     "data": {
      "text/plain": [
       "array([ 4.92966101,  5.01025777, 15.03077331,  9.98325262])"
      ]
     },
     "execution_count": 60,
     "metadata": {},
     "output_type": "execute_result"
    }
   ],
   "source": [
    "Acompl@xx3"
   ]
  },
  {
   "cell_type": "code",
   "execution_count": 61,
   "metadata": {},
   "outputs": [
    {
     "data": {
      "text/plain": [
       "array([-0.07033899,  0.01025777,  0.03077331, -0.01674738])"
      ]
     },
     "execution_count": 61,
     "metadata": {},
     "output_type": "execute_result"
    }
   ],
   "source": [
    "#_\n",
    "# Array für die Fehler in den einzelnen Gleichungen\n",
    "err = Acompl@xx3 -bbcompl"
   ]
  },
  {
   "cell_type": "code",
   "execution_count": 62,
   "metadata": {},
   "outputs": [
    {
     "data": {
      "text/plain": [
       "0.006280267399829681"
      ]
     },
     "execution_count": 62,
     "metadata": {},
     "output_type": "execute_result"
    }
   ],
   "source": [
    "#_\n",
    "# Summe der Fehlerquadrate, siehe res[1]\n",
    "sum(err**2)"
   ]
  },
  {
   "cell_type": "markdown",
   "metadata": {},
   "source": [
    "`end lgs8`"
   ]
  },
  {
   "cell_type": "markdown",
   "metadata": {},
   "source": [
    "### Eigen- und Singulärwerte"
   ]
  },
  {
   "cell_type": "markdown",
   "metadata": {},
   "source": [
    "`begin eig1`"
   ]
  },
  {
   "cell_type": "code",
   "execution_count": 63,
   "metadata": {},
   "outputs": [
    {
     "data": {
      "text/plain": [
       "array([[ 0,  1,  4],\n",
       "       [ 9, 16, 25],\n",
       "       [36, 49, 64]])"
      ]
     },
     "execution_count": 63,
     "metadata": {},
     "output_type": "execute_result"
    }
   ],
   "source": [
    "A = np.arange(9).reshape(3, 3)**2"
   ]
  },
  {
   "cell_type": "code",
   "execution_count": 64,
   "metadata": {},
   "outputs": [
    {
     "data": {
      "text/plain": [
       "array([84.17503728,  0.54379577, -4.71883304])"
      ]
     },
     "execution_count": 64,
     "metadata": {},
     "output_type": "execute_result"
    }
   ],
   "source": [
    "np.linalg.eigvals(A)"
   ]
  },
  {
   "cell_type": "markdown",
   "metadata": {},
   "source": [
    "`end eig1`"
   ]
  },
  {
   "cell_type": "markdown",
   "metadata": {},
   "source": [
    "`begin eig2`"
   ]
  },
  {
   "cell_type": "code",
   "execution_count": 65,
   "metadata": {},
   "outputs": [
    {
     "data": {
      "text/plain": [
       "2"
      ]
     },
     "execution_count": 65,
     "metadata": {},
     "output_type": "execute_result"
    }
   ],
   "source": [
    "res = np.linalg.eig(A)\n",
    "len(res)"
   ]
  },
  {
   "cell_type": "code",
   "execution_count": 66,
   "metadata": {},
   "outputs": [
    {
     "data": {
      "text/plain": [
       "array([84.17503728,  0.54379577, -4.71883304])"
      ]
     },
     "execution_count": 66,
     "metadata": {},
     "output_type": "execute_result"
    }
   ],
   "source": [
    "#_\n",
    "# Eigenwerte\n",
    "llambda = res[0]"
   ]
  },
  {
   "cell_type": "code",
   "execution_count": 67,
   "metadata": {},
   "outputs": [
    {
     "data": {
      "text/plain": [
       "array([[-0.04861516, -0.57380308, -0.43199383],\n",
       "       [-0.34952861,  0.77278599, -0.61184774],\n",
       "       [-0.93566357, -0.27120442,  0.66258862]])"
      ]
     },
     "execution_count": 67,
     "metadata": {},
     "output_type": "execute_result"
    }
   ],
   "source": [
    "#_\n",
    "# Eigenvektoren\n",
    "vv = res[1]"
   ]
  },
  {
   "cell_type": "markdown",
   "metadata": {},
   "source": [
    "`end eig2`"
   ]
  },
  {
   "cell_type": "markdown",
   "metadata": {},
   "source": [
    "`begin eig3`"
   ]
  },
  {
   "cell_type": "code",
   "execution_count": 68,
   "metadata": {},
   "outputs": [
    {
     "data": {
      "text/plain": [
       "array([-2.66453526e-15, -1.06581410e-14,  4.26325641e-14])"
      ]
     },
     "execution_count": 68,
     "metadata": {},
     "output_type": "execute_result"
    }
   ],
   "source": [
    "# Probe, ob Eigenwertgleichung erfüllt ist\n",
    "A@vv[:, 0] - llambda[0]*vv[:, 0]"
   ]
  },
  {
   "cell_type": "code",
   "execution_count": 69,
   "metadata": {},
   "outputs": [
    {
     "data": {
      "text/plain": [
       "array([3.33066907e-16, 5.44009282e-15, 3.40560913e-14])"
      ]
     },
     "execution_count": 69,
     "metadata": {},
     "output_type": "execute_result"
    }
   ],
   "source": [
    "#_\n",
    "A@vv[:, 1] - llambda[1]*vv[:, 1]"
   ]
  },
  {
   "cell_type": "code",
   "execution_count": 70,
   "metadata": {},
   "outputs": [
    {
     "data": {
      "text/plain": [
       "array([ 4.44089210e-16,  6.21724894e-15, -5.77315973e-15])"
      ]
     },
     "execution_count": 70,
     "metadata": {},
     "output_type": "execute_result"
    }
   ],
   "source": [
    "#_\n",
    "A@vv[:, 2] - llambda[2]*vv[:, 2]"
   ]
  },
  {
   "cell_type": "markdown",
   "metadata": {},
   "source": [
    "`end eig3`"
   ]
  },
  {
   "cell_type": "markdown",
   "metadata": {},
   "source": [
    "`begin eig4`"
   ]
  },
  {
   "cell_type": "code",
   "execution_count": 71,
   "metadata": {},
   "outputs": [
    {
     "data": {
      "text/plain": [
       "array([ 0.21688578, -0.03688578])"
      ]
     },
     "execution_count": 71,
     "metadata": {},
     "output_type": "execute_result"
    }
   ],
   "source": [
    "# regulärer Fall (Zeilenindizes 0, 1)\n",
    "np.linalg.eigvals(Acompl[0:2, :])"
   ]
  },
  {
   "cell_type": "code",
   "execution_count": 72,
   "metadata": {},
   "outputs": [
    {
     "data": {
      "text/plain": [
       "array([0. , 0.4])"
      ]
     },
     "execution_count": 72,
     "metadata": {},
     "output_type": "execute_result"
    }
   ],
   "source": [
    "#_\n",
    "# singulärer Fall (Zeilenindizes 1, 2)\n",
    "np.linalg.eigvals(Acompl[1:3, :])"
   ]
  },
  {
   "cell_type": "markdown",
   "metadata": {},
   "source": [
    "`end eig4`"
   ]
  },
  {
   "cell_type": "code",
   "execution_count": 73,
   "metadata": {},
   "outputs": [],
   "source": [
    "orig_prec = np.get_printoptions() #!\n",
    "np.set_printoptions(precision=5) #!"
   ]
  },
  {
   "cell_type": "markdown",
   "metadata": {},
   "source": [
    "`begin eig5`"
   ]
  },
  {
   "cell_type": "code",
   "execution_count": 74,
   "metadata": {},
   "outputs": [
    {
     "data": {
      "text/plain": [
       "3"
      ]
     },
     "execution_count": 74,
     "metadata": {},
     "output_type": "execute_result"
    }
   ],
   "source": [
    "res = np.linalg.svd(Acompl)\n",
    "len(res)"
   ]
  },
  {
   "cell_type": "code",
   "execution_count": 75,
   "metadata": {},
   "outputs": [],
   "source": [
    "UU, ssigma, VVT = res # Entpacken in 3 separate Variablen"
   ]
  },
  {
   "cell_type": "code",
   "execution_count": 76,
   "metadata": {},
   "outputs": [
    {
     "data": {
      "text/plain": [
       "array([[-0.15751, -0.43289, -0.70245, -0.54256],\n",
       "       [-0.2216 , -0.18476, -0.47747,  0.82993],\n",
       "       [-0.66481, -0.55429,  0.50062, -0.0129 ],\n",
       "       [-0.69578,  0.68646, -0.16725, -0.12918]])"
      ]
     },
     "execution_count": 76,
     "metadata": {},
     "output_type": "execute_result"
    }
   ],
   "source": [
    "UU"
   ]
  },
  {
   "cell_type": "code",
   "execution_count": 77,
   "metadata": {},
   "outputs": [
    {
     "data": {
      "text/plain": [
       "array([[ 1.00000e+00, -5.55112e-17,  5.29091e-17, -1.52656e-16],\n",
       "       [-5.55112e-17,  1.00000e+00,  1.23165e-16, -2.91434e-16],\n",
       "       [ 5.29091e-17,  1.23165e-16,  1.00000e+00, -5.63785e-18],\n",
       "       [-1.52656e-16, -2.91434e-16, -5.63785e-18,  1.00000e+00]])"
      ]
     },
     "execution_count": 77,
     "metadata": {},
     "output_type": "execute_result"
    }
   ],
   "source": [
    "UU@UU.T # Orthonormalität von U überprüfen"
   ]
  },
  {
   "cell_type": "code",
   "execution_count": 78,
   "metadata": {},
   "outputs": [],
   "source": [
    "# -> Einheitsmatrix bis auf kleine numerische Fehler"
   ]
  },
  {
   "cell_type": "code",
   "execution_count": 79,
   "metadata": {},
   "outputs": [
    {
     "data": {
      "text/plain": [
       "array([0.79748, 0.15011])"
      ]
     },
     "execution_count": 79,
     "metadata": {},
     "output_type": "execute_result"
    }
   ],
   "source": [
    "#_\n",
    "ssigma # Vektor (1D-Array) der Singulärwerte"
   ]
  },
  {
   "cell_type": "code",
   "execution_count": 80,
   "metadata": {},
   "outputs": [
    {
     "data": {
      "text/plain": [
       "array([[1., 0.],\n",
       "       [0., 1.]])"
      ]
     },
     "execution_count": 80,
     "metadata": {},
     "output_type": "execute_result"
    }
   ],
   "source": [
    "VVT@VVT.T # Orthonormalität von VVT überprüfen"
   ]
  },
  {
   "cell_type": "markdown",
   "metadata": {},
   "source": [
    "`end eig5`"
   ]
  },
  {
   "cell_type": "markdown",
   "metadata": {},
   "source": [
    "`begin svd1b`"
   ]
  },
  {
   "cell_type": "code",
   "execution_count": 81,
   "metadata": {},
   "outputs": [
    {
     "name": "stdout",
     "output_type": "stream",
     "text": [
      "ValueError: [...] mismatch in its core dimension [...]\n"
     ]
    }
   ],
   "source": [
    "#!UU@ssigma@VVT\n",
    "print(\"ValueError: [...] mismatch in its core dimension [...]\") #!"
   ]
  },
  {
   "cell_type": "markdown",
   "metadata": {},
   "source": [
    "`end svd1b`"
   ]
  },
  {
   "cell_type": "markdown",
   "metadata": {},
   "source": [
    "`begin svd1c`"
   ]
  },
  {
   "cell_type": "code",
   "execution_count": 82,
   "metadata": {},
   "outputs": [
    {
     "data": {
      "text/plain": [
       "array([[0.1 , 0.1 ],\n",
       "       [0.16, 0.08],\n",
       "       [0.48, 0.24],\n",
       "       [0.56, 0.07]])"
      ]
     },
     "execution_count": 82,
     "metadata": {},
     "output_type": "execute_result"
    }
   ],
   "source": [
    "UU@np.diag([*ssigma, 0, 0])[:, :2]@VVT"
   ]
  },
  {
   "cell_type": "markdown",
   "metadata": {},
   "source": [
    "`end svd1c`"
   ]
  },
  {
   "cell_type": "markdown",
   "metadata": {},
   "source": [
    "### SVD-Beispiel\n",
    "- 5 verschiedene Temperatursensoren, 8 Messungen,\n",
    "- welche sind relevant und welche linear abhänig\n",
    "- nur 3 unabhängige Größen: $\\alpha_j$"
   ]
  },
  {
   "cell_type": "code",
   "execution_count": 83,
   "metadata": {},
   "outputs": [
    {
     "data": {
      "text/plain": [
       "array([10. ,  4. ,  3. ,  0.5,  0.3,  0.1,  0. ,  0. ,  0. ,  0. ,  0. ,\n",
       "        0. ,  0. ,  0. ,  0. ,  0. ,  0. ,  0. ,  0. ,  0. ])"
      ]
     },
     "execution_count": 83,
     "metadata": {},
     "output_type": "execute_result"
    }
   ],
   "source": [
    "# Datenkonstruktion:\n",
    "N = 20\n",
    "sigma = np.array([10, 4, 3, 0.5, 0.3, 0.1]+[0]*N)[:N]\n"
   ]
  },
  {
   "cell_type": "code",
   "execution_count": 84,
   "metadata": {},
   "outputs": [],
   "source": [
    "np.set_printoptions(precision=3)"
   ]
  },
  {
   "cell_type": "code",
   "execution_count": 85,
   "metadata": {},
   "outputs": [
    {
     "data": {
      "text/plain": [
       "array([[ 6.5, 25.1,  6.4, 21.3, 23.5, 40.3, 20.9,  9.5],\n",
       "       [44.5,  3.8, 26.4, 22.1, 49.8, 21.1, 45.6, 44.1]])"
      ]
     },
     "execution_count": 85,
     "metadata": {},
     "output_type": "execute_result"
    }
   ],
   "source": [
    "np.random.seed(1747)\n",
    "\n",
    "# Wahre (versteckte) Größen\n",
    "\n",
    "aalpha = np.round(np.random.rand(2, 8)*50 + 350*0, 1)"
   ]
  },
  {
   "cell_type": "code",
   "execution_count": 86,
   "metadata": {},
   "outputs": [
    {
     "data": {
      "text/plain": [
       "array([[0.9, 0.4],\n",
       "       [0.3, 0.9],\n",
       "       [0.5, 0.3],\n",
       "       [0.8, 0.4],\n",
       "       [0.3, 0.2]])"
      ]
     },
     "execution_count": 86,
     "metadata": {},
     "output_type": "execute_result"
    }
   ],
   "source": [
    "# Verteilungsmatrix: wie hängen die Sensormesswerte von den wahren Größen ab\n",
    "M = np.round(np.random.rand(5, 2), 1)"
   ]
  },
  {
   "cell_type": "code",
   "execution_count": 87,
   "metadata": {},
   "outputs": [
    {
     "data": {
      "text/plain": [
       "array([[23.65, 24.11, 16.32, 28.01, 41.07, 44.71, 37.05, 26.19],\n",
       "       [42.  , 10.95, 25.68, 26.28, 51.87, 31.08, 47.31, 42.54],\n",
       "       [16.6 , 13.69, 11.12, 17.28, 26.69, 26.48, 24.13, 17.98],\n",
       "       [23.  , 21.6 , 15.68, 25.88, 38.72, 40.68, 34.96, 25.24],\n",
       "       [10.85,  8.29,  7.2 , 10.81, 17.01, 16.31, 15.39, 11.67]])"
      ]
     },
     "execution_count": 87,
     "metadata": {},
     "output_type": "execute_result"
    }
   ],
   "source": [
    "DD = (M@aalpha)"
   ]
  },
  {
   "cell_type": "markdown",
   "metadata": {},
   "source": [
    "`begin svd2`"
   ]
  },
  {
   "cell_type": "code",
   "execution_count": 88,
   "metadata": {},
   "outputs": [
    {
     "data": {
      "text/plain": [
       "(5, 8)"
      ]
     },
     "execution_count": 88,
     "metadata": {},
     "output_type": "execute_result"
    }
   ],
   "source": [
    "DD.shape"
   ]
  },
  {
   "cell_type": "code",
   "execution_count": 89,
   "metadata": {},
   "outputs": [
    {
     "data": {
      "text/plain": [
       "array([[23.65, 24.11, 16.32, 28.01, 41.07, 44.71, 37.05, 26.19],\n",
       "       [42.  , 10.95, 25.68, 26.28, 51.87, 31.08, 47.31, 42.54],\n",
       "       [16.6 , 13.69, 11.12, 17.28, 26.69, 26.48, 24.13, 17.98],\n",
       "       [23.  , 21.6 , 15.68, 25.88, 38.72, 40.68, 34.96, 25.24],\n",
       "       [10.85,  8.29,  7.2 , 10.81, 17.01, 16.31, 15.39, 11.67]])"
      ]
     },
     "execution_count": 89,
     "metadata": {},
     "output_type": "execute_result"
    }
   ],
   "source": [
    "DD"
   ]
  },
  {
   "cell_type": "markdown",
   "metadata": {},
   "source": [
    "`end svd2`"
   ]
  },
  {
   "cell_type": "code",
   "execution_count": 90,
   "metadata": {},
   "outputs": [],
   "source": [
    "np.set_printoptions(precision=3)"
   ]
  },
  {
   "cell_type": "markdown",
   "metadata": {},
   "source": [
    "`begin svd3`"
   ]
  },
  {
   "cell_type": "code",
   "execution_count": 91,
   "metadata": {},
   "outputs": [
    {
     "data": {
      "text/plain": [
       "array([1.721e+02, 2.609e+01, 1.362e-14, 9.820e-15, 2.999e-15])"
      ]
     },
     "execution_count": 91,
     "metadata": {},
     "output_type": "execute_result"
    }
   ],
   "source": [
    "UU, ssigma, VVT = np.linalg.svd(DD)\n",
    "ssigma"
   ]
  },
  {
   "cell_type": "markdown",
   "metadata": {},
   "source": [
    "`end svd3`"
   ]
  },
  {
   "cell_type": "markdown",
   "metadata": {},
   "source": [
    "`begin svd4`"
   ]
  },
  {
   "cell_type": "code",
   "execution_count": 92,
   "metadata": {},
   "outputs": [
    {
     "data": {
      "text/plain": [
       "array([[23.65, 24.11, 16.32, 28.01, 41.07, 44.71, 37.05, 26.19],\n",
       "       [42.  , 10.95, 25.68, 26.28, 51.87, 31.08, 47.31, 42.54],\n",
       "       [16.6 , 13.69, 11.12, 17.28, 26.69, 26.48, 24.13, 17.98],\n",
       "       [23.  , 21.6 , 15.68, 25.88, 38.72, 40.68, 34.96, 25.24],\n",
       "       [10.85,  8.29,  7.2 , 10.81, 17.01, 16.31, 15.39, 11.67]])"
      ]
     },
     "execution_count": 92,
     "metadata": {},
     "output_type": "execute_result"
    }
   ],
   "source": [
    "UU1 = UU[:, :2]\n",
    "Ssigma1 = np.diag(ssigma[:2])\n",
    "VV1T = VVT[:2, :]\n",
    "#_\n",
    "UU1@Ssigma1@VV1T"
   ]
  },
  {
   "cell_type": "code",
   "execution_count": 93,
   "metadata": {},
   "outputs": [
    {
     "data": {
      "text/plain": [
       "2.1316282072803006e-14"
      ]
     },
     "execution_count": 93,
     "metadata": {},
     "output_type": "execute_result"
    }
   ],
   "source": [
    "# Probe: maximale Differenz zu den Originaldaten\n",
    "np.max(np.abs(UU1@Ssigma1@VV1T - DD))"
   ]
  },
  {
   "cell_type": "markdown",
   "metadata": {},
   "source": [
    "`end svd4`"
   ]
  },
  {
   "cell_type": "markdown",
   "metadata": {},
   "source": [
    "`begin svd5`"
   ]
  },
  {
   "cell_type": "code",
   "execution_count": 94,
   "metadata": {},
   "outputs": [
    {
     "data": {
      "text/plain": [
       "array([[-1.165, -0.675],\n",
       "       [-0.873,  0.752]])"
      ]
     },
     "execution_count": 94,
     "metadata": {},
     "output_type": "execute_result"
    }
   ],
   "source": [
    "UU1a, UU1b = UU1[:2, :], UU1[2:, :]\n",
    "DDa, DDb = DD[:2, :], DD[2:, :]\n",
    "#_\n",
    "UU1a_inv = np.linalg.inv(UU1a)"
   ]
  },
  {
   "cell_type": "code",
   "execution_count": 95,
   "metadata": {},
   "outputs": [
    {
     "data": {
      "text/plain": [
       "array([[16.6 , 13.69, 11.12, 17.28, 26.69, 26.48, 24.13, 17.98],\n",
       "       [23.  , 21.6 , 15.68, 25.88, 38.72, 40.68, 34.96, 25.24],\n",
       "       [10.85,  8.29,  7.2 , 10.81, 17.01, 16.31, 15.39, 11.67]])"
      ]
     },
     "execution_count": 95,
     "metadata": {},
     "output_type": "execute_result"
    }
   ],
   "source": [
    "UU1b@UU1a_inv@DDa"
   ]
  },
  {
   "cell_type": "code",
   "execution_count": 96,
   "metadata": {},
   "outputs": [
    {
     "data": {
      "text/plain": [
       "1.4210854715202004e-14"
      ]
     },
     "execution_count": 96,
     "metadata": {},
     "output_type": "execute_result"
    }
   ],
   "source": [
    "# Probe: maximale Differenz zu den Originaldaten\n",
    "np.max(np.abs(UU1b@UU1a_inv@DDa - DDb))"
   ]
  },
  {
   "cell_type": "markdown",
   "metadata": {},
   "source": [
    "`end svd5`"
   ]
  },
  {
   "cell_type": "markdown",
   "metadata": {},
   "source": [
    "`begin svd6`"
   ]
  },
  {
   "cell_type": "code",
   "execution_count": 97,
   "metadata": {},
   "outputs": [
    {
     "data": {
      "text/plain": [
       "array([[ 0,  1,  2,  3],\n",
       "       [ 4,  5,  6,  7],\n",
       "       [ 8,  9, 10, 11]])"
      ]
     },
     "execution_count": 97,
     "metadata": {},
     "output_type": "execute_result"
    }
   ],
   "source": [
    "DD = np.arange(12).reshape(3, 4)"
   ]
  },
  {
   "cell_type": "code",
   "execution_count": 98,
   "metadata": {},
   "outputs": [
    {
     "data": {
      "text/plain": [
       "array([[ 8,  9, 10, 11],\n",
       "       [ 4,  5,  6,  7],\n",
       "       [ 0,  1,  2,  3]])"
      ]
     },
     "execution_count": 98,
     "metadata": {},
     "output_type": "execute_result"
    }
   ],
   "source": [
    "# Permutationsmatrix: Vertauschung 1. und letzter Zeile\n",
    "PP = np.array([[0, 0, 1],\n",
    "               [0, 1, 0],\n",
    "               [1, 0, 0]])\n",
    "PP@DD"
   ]
  },
  {
   "cell_type": "code",
   "execution_count": 99,
   "metadata": {},
   "outputs": [
    {
     "data": {
      "text/plain": [
       "array([[ 8,  9, 10, 11],\n",
       "       [ 4,  5,  6,  7],\n",
       "       [ 0,  1,  2,  3]])"
      ]
     },
     "execution_count": 99,
     "metadata": {},
     "output_type": "execute_result"
    }
   ],
   "source": [
    "# Vertauscht erste (Index 0) und letzte (Index -1) Zeile\n",
    "# durch Indizierung mit passender Liste\n",
    "indices = [-1, 1, 0]\n",
    "DD[indices, :]"
   ]
  },
  {
   "cell_type": "markdown",
   "metadata": {},
   "source": [
    "`end svd6`"
   ]
  }
 ],
 "metadata": {
  "kernelspec": {
   "display_name": "Python 3",
   "language": "python",
   "name": "python3"
  },
  "language_info": {
   "codemirror_mode": {
    "name": "ipython",
    "version": 3
   },
   "file_extension": ".py",
   "mimetype": "text/x-python",
   "name": "python",
   "nbconvert_exporter": "python",
   "pygments_lexer": "ipython3",
   "version": "3.8.6"
  }
 },
 "nbformat": 4,
 "nbformat_minor": 4
}
