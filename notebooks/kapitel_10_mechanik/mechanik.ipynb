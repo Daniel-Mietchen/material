{
 "cells": [
  {
   "cell_type": "markdown",
   "metadata": {},
   "source": [
    "# Mechanik – Ganz ohne schmutzige Hände\n",
    "\n",
    "Dieses Jupyter-Notebook enthält den Quelltext für Kapitel 10 »Mechanik – Ganz ohne schmutzige Hände« im Buch [Python für Ingenieure für Dummies](https://python-fuer-ingenieure.de/)."
   ]
  },
  {
   "cell_type": "code",
   "execution_count": 1,
   "metadata": {},
   "outputs": [],
   "source": [
    "# sorgt dafür, dass, wenn die letzte Zeile eine Zuweisung ist, deren Ergebnis auch ausgegeben wird\n",
    "%config InteractiveShell.ast_node_interactivity='last_expr_or_assign'"
   ]
  },
  {
   "cell_type": "code",
   "execution_count": 2,
   "metadata": {},
   "outputs": [],
   "source": [
    "import matplotlib.pyplot as plt\n",
    "import sympy as sp\n",
    "import numpy as np\n",
    "\n",
    "import sys\n",
    "sys.path.append(\"../util\")\n",
    "from pfi_util import define_plot_params, show_book, set_cmap_cycler\n",
    "\n",
    "orig_plt_rcParams, double_plt_rcParams = define_plot_params(plt)\n",
    "set_cmap_cycler(N=2)"
   ]
  },
  {
   "cell_type": "markdown",
   "metadata": {},
   "source": [
    "### Statik und Festigkeitslehre (Lagerkräfte und Biegelienie)"
   ]
  },
  {
   "cell_type": "markdown",
   "metadata": {},
   "source": [
    "`begin statik1`"
   ]
  },
  {
   "cell_type": "code",
   "execution_count": 3,
   "metadata": {},
   "outputs": [
    {
     "data": {
      "text/plain": [
       "{F_Ah: F_L*cos(alpha),\n",
       " F_Av: (-F_L*l1*sin(alpha) + F_L*l2*sin(alpha))/l2,\n",
       " F_Bv: F_L*l1*sin(alpha)/l2}"
      ]
     },
     "execution_count": 3,
     "metadata": {},
     "output_type": "execute_result"
    }
   ],
   "source": [
    "# Notwendige Symbole erstellen (aus einem String)\n",
    "FAh, FAv, FBv, FL, l1, l2, alpha = \\\n",
    "    sp.symbols(\"F_Ah, F_Av,  F_Bv, F_L, l1, l2, alpha\")\n",
    "#_\n",
    "# Linke Seiten der Bilanzgleichungen (\"equations\")\n",
    "# (rechte Seiten sind 0)\n",
    "eqns = [\n",
    "    FAh - FL*sp.cos(alpha),\n",
    "    FAv + FBv - FL*sp.sin(alpha),\n",
    "    -l1*FL*sp.sin(alpha) + l2*FBv\n",
    "]\n",
    "#_\n",
    "sol_dict = sp.solve(eqns, [FAh, FAv, FBv])"
   ]
  },
  {
   "cell_type": "markdown",
   "metadata": {},
   "source": [
    "`end statik1`"
   ]
  },
  {
   "cell_type": "code",
   "execution_count": 4,
   "metadata": {},
   "outputs": [
    {
     "name": "stdout",
     "output_type": "stream",
     "text": [
      "\\left\\{ F_{Ah} : F_{L} \\cos{\\left(\\alpha \\right)}, \\  F_{Av} : \\frac{- F_{L} l_{1} \\sin{\\left(\\alpha \\right)} + F_{L} l_{2} \\sin{\\left(\\alpha \\right)}}{l_{2}}, \\  F_{Bv} : \\frac{F_{L} l_{1} \\sin{\\left(\\alpha \\right)}}{l_{2}}\\right\\}\n"
     ]
    }
   ],
   "source": [
    "# Lösung als LaTeX-Code ausgeben (fürs Buch)\n",
    "print(sp.latex(sol_dict))"
   ]
  },
  {
   "cell_type": "markdown",
   "metadata": {},
   "source": [
    "`begin balken1`"
   ]
  },
  {
   "cell_type": "code",
   "execution_count": 5,
   "metadata": {},
   "outputs": [],
   "source": [
    "E, I, q0, l, x = sp.symbols(\"E, I, q0, l, x\")"
   ]
  },
  {
   "cell_type": "code",
   "execution_count": 6,
   "metadata": {},
   "outputs": [
    {
     "data": {
      "text/latex": [
       "$\\displaystyle w{\\left(x \\right)}$"
      ],
      "text/plain": [
       "w(x)"
      ]
     },
     "execution_count": 6,
     "metadata": {},
     "output_type": "execute_result"
    }
   ],
   "source": [
    "w = sp.Function(\"w\")(x)"
   ]
  },
  {
   "cell_type": "code",
   "execution_count": 7,
   "metadata": {},
   "outputs": [
    {
     "data": {
      "text/latex": [
       "$\\displaystyle C_{1} + C_{2} x + C_{3} x^{2} + C_{4} x^{3} + \\frac{q_{0} x^{4}}{24 E I}$"
      ],
      "text/plain": [
       "C1 + C2*x + C3*x**2 + C4*x**3 + q0*x**4/(24*E*I)"
      ]
     },
     "execution_count": 7,
     "metadata": {},
     "output_type": "execute_result"
    }
   ],
   "source": [
    "sol = sp.dsolve(w.diff(x, 4) - q0/(E*I), w)\n",
    "#_\n",
    "# dsolve liefert ein `Equality`-Objekt\n",
    "# relevant ist dessen rechte Seite\n",
    "w_sol = sol.rhs"
   ]
  },
  {
   "cell_type": "markdown",
   "metadata": {},
   "source": [
    "`end balken1`"
   ]
  },
  {
   "cell_type": "markdown",
   "metadata": {},
   "source": [
    "`begin balken2`"
   ]
  },
  {
   "cell_type": "code",
   "execution_count": 8,
   "metadata": {},
   "outputs": [
    {
     "data": {
      "text/latex": [
       "$\\displaystyle C_{3} x^{2} + C_{4} x^{3} + \\frac{q_{0} x^{4}}{24 E I}$"
      ],
      "text/plain": [
       "C3*x**2 + C4*x**3 + q0*x**4/(24*E*I)"
      ]
     },
     "execution_count": 8,
     "metadata": {},
     "output_type": "execute_result"
    }
   ],
   "source": [
    "w_sol.subs([(\"C1\", 0), (\"C2\", 0)])"
   ]
  },
  {
   "cell_type": "markdown",
   "metadata": {},
   "source": [
    "`end balken2`"
   ]
  },
  {
   "cell_type": "markdown",
   "metadata": {},
   "source": [
    "`begin balken3`"
   ]
  },
  {
   "cell_type": "code",
   "execution_count": 9,
   "metadata": {},
   "outputs": [
    {
     "data": {
      "text/plain": [
       "[C1, C2, 2*C3 + 6*C4*l + l**2*q0/(2*E*I), 6*C4 + l*q0/(E*I)]"
      ]
     },
     "execution_count": 9,
     "metadata": {},
     "output_type": "execute_result"
    }
   ],
   "source": [
    "# Randbedingungen: linke Seiten der vier\n",
    "# \"lhs=0\"-Gleichungen in einer Liste anordnen\n",
    "eqns = [\n",
    "    w_sol.subs(x, 0),\n",
    "    w_sol.diff(x).subs(x, 0),\n",
    "    w_sol.diff(x, 2).subs(x, l),\n",
    "    w_sol.diff(x, 3).subs(x, l),    \n",
    "]\n"
   ]
  },
  {
   "cell_type": "code",
   "execution_count": 10,
   "metadata": {},
   "outputs": [
    {
     "data": {
      "text/plain": [
       "{C1: 0, C2: 0, C3: l**2*q0/(4*E*I), C4: -l*q0/(6*E*I)}"
      ]
     },
     "execution_count": 10,
     "metadata": {},
     "output_type": "execute_result"
    }
   ],
   "source": [
    "sol_dict = sp.solve(eqns, [\"C1\", \"C2\", \"C3\", \"C4\"])"
   ]
  },
  {
   "cell_type": "markdown",
   "metadata": {},
   "source": [
    "`end balken3`"
   ]
  },
  {
   "cell_type": "markdown",
   "metadata": {},
   "source": [
    "`begin balken4`"
   ]
  },
  {
   "cell_type": "code",
   "execution_count": 11,
   "metadata": {},
   "outputs": [
    {
     "data": {
      "text/latex": [
       "$\\displaystyle 0.000390625 x^{4} - 0.0078125 x^{3} + 0.05859375 x^{2}$"
      ],
      "text/plain": [
       "0.000390625*x**4 - 0.0078125*x**3 + 0.05859375*x**2"
      ]
     },
     "execution_count": 11,
     "metadata": {},
     "output_type": "execute_result"
    }
   ],
   "source": [
    "# numerische Parameter einsetzen\n",
    "b, h = 0.2, 0.04  # Breite, Dicke [m]\n",
    "Enum = 10*1e9  # Elastizitätsmodul (Holz) [N/m**2]\n",
    "q0num = 100  # konstante Streckenlast [N/m]\n",
    "Inum = b*h**3/12  # Flächenträgheitsmoment\n",
    "lnum = 5  # [m]\n",
    "#_\n",
    "param_values = [(E, Enum), (I, Inum), (q0, q0num), (l, lnum)]\n",
    "w_sol_num = w_sol.subs(sol_dict).subs(param_values)"
   ]
  },
  {
   "cell_type": "code",
   "execution_count": 12,
   "metadata": {},
   "outputs": [
    {
     "data": {
      "image/png": "[encoded data removed]",
      "text/plain": [
       "<Figure size 432x288 with 1 Axes>"
      ]
     },
     "metadata": {
      "needs_background": "light"
     },
     "output_type": "display_data"
    }
   ],
   "source": [
    "# zum Plotten umwandeln in aufrufbare Funktion\n",
    "w_func = sp.lambdify(x, w_sol_num, modules=\"numpy\")\n",
    "#_\n",
    "xx = np.linspace(0, lnum, 1000)\n",
    "ww = w_func(xx)  # numerische Auswertung der Biegelinie\n",
    "plt.plot(xx, ww, lw=20) # dicke dunkle Linie\n",
    "plt.plot(xx, ww, lw=17, color=\"white\") # etwas dünner, weiß\n",
    "plt.gca().invert_yaxis() # damit positiv unten ist\n",
    "plt.axis(\"equal\") # gleicher Maßstab in x- und y-Richtung\n",
    "# #!\n",
    "plt.xlabel(\"$x$ in m\") #!\n",
    "plt.ylabel(r\"$w(x)$ in m\") #!\n",
    "show_book(\"eingespannter_balken\") #!"
   ]
  },
  {
   "cell_type": "markdown",
   "metadata": {},
   "source": [
    "`end balken4`"
   ]
  },
  {
   "cell_type": "code",
   "execution_count": 13,
   "metadata": {},
   "outputs": [
    {
     "data": {
      "text/latex": [
       "$\\displaystyle q_{0} x$"
      ],
      "text/plain": [
       "q0*x"
      ]
     },
     "execution_count": 13,
     "metadata": {},
     "output_type": "execute_result"
    }
   ],
   "source": [
    "# Einfach-Integral über die Variable x\n",
    "# in den Grenzen von 0 bis x\n",
    "# (mathematisch nicht ganz sauber, aber\n",
    "# sympy weiß wie es gemeint ist)\n",
    "\n",
    "sp.integrate(q0, (x, 0, x))"
   ]
  },
  {
   "cell_type": "code",
   "execution_count": 14,
   "metadata": {},
   "outputs": [
    {
     "data": {
      "text/latex": [
       "$\\displaystyle \\frac{q_{0} x^{4}}{24}$"
      ],
      "text/plain": [
       "q0*x**4/24"
      ]
     },
     "execution_count": 14,
     "metadata": {},
     "output_type": "execute_result"
    }
   ],
   "source": [
    "\n",
    "# Vierfach-Integral nach dem gleichen Muster\n",
    "\n",
    "sp.integrate(q0, x, x, x, x)"
   ]
  },
  {
   "cell_type": "markdown",
   "metadata": {},
   "source": [
    "`begin rotationsmatrix`"
   ]
  },
  {
   "cell_type": "code",
   "execution_count": 15,
   "metadata": {},
   "outputs": [
    {
     "data": {
      "text/latex": [
       "$\\displaystyle \\left[\\begin{matrix}\\cos{\\left(\\theta_{1} \\right)} & - \\sin{\\left(\\theta_{1} \\right)}\\\\\\sin{\\left(\\theta_{1} \\right)} & \\cos{\\left(\\theta_{1} \\right)}\\end{matrix}\\right]$"
      ],
      "text/plain": [
       "Matrix([\n",
       "[cos(theta1), -sin(theta1)],\n",
       "[sin(theta1),  cos(theta1)]])"
      ]
     },
     "execution_count": 15,
     "metadata": {},
     "output_type": "execute_result"
    }
   ],
   "source": [
    "def R(phi):\n",
    "    \"\"\"\n",
    "    Rotationsmatrix in der Ebene\n",
    "    \"\"\"\n",
    "    c = sp.cos(phi)\n",
    "    s = sp.sin(phi)\n",
    "       \n",
    "    return  sp.Matrix([[c, -s], [s, c]])\n",
    "    \n",
    "R(\"theta1\") # Rotationsmatrix"
   ]
  },
  {
   "cell_type": "markdown",
   "metadata": {},
   "source": [
    "`end rotationsmatrix`"
   ]
  },
  {
   "cell_type": "markdown",
   "metadata": {},
   "source": [
    "## Kinematik (Beispiel: Viergelenkgetriebe)"
   ]
  },
  {
   "cell_type": "markdown",
   "metadata": {},
   "source": [
    "`begin kinematik1`"
   ]
  },
  {
   "cell_type": "code",
   "execution_count": 16,
   "metadata": {},
   "outputs": [],
   "source": [
    "# Einheitsvektoren in x- und y-Richtung\n",
    "ex = sp.Matrix([1, 0]) \n",
    "ey = sp.Matrix([0, 1]) \n",
    "#_\n",
    "# Symbole für die Winkel definieren\n",
    "theta1, theta2, theta3 = ttheta = sp.symbols(\"theta1:4\")\n",
    "#_\n",
    "# Längen der Glieder\n",
    "l1, l2, l3, l4 = 0.3, 0.6, 0.7, 0.9"
   ]
  },
  {
   "cell_type": "markdown",
   "metadata": {},
   "source": [
    "`end kinematik1`"
   ]
  },
  {
   "cell_type": "markdown",
   "metadata": {},
   "source": [
    "Geometrie der offenen kinematischen Kette"
   ]
  },
  {
   "cell_type": "markdown",
   "metadata": {},
   "source": [
    "`begin kinematik2`"
   ]
  },
  {
   "cell_type": "code",
   "execution_count": 17,
   "metadata": {},
   "outputs": [],
   "source": [
    "# Basis 1 und 2\n",
    "B1 = sp.Matrix([0, 0])\n",
    "B2 = sp.Matrix([l4, 0])\n",
    "#_\n",
    "G1 = B1 + R(theta1)*ex*l1\n",
    "G2 = G1 + R(theta1 + theta2)*ex*l2\n",
    "#_\n",
    "# Ende der offenen Kette\n",
    "E = G2 + R(theta1 + theta2 + theta3)*ex*l3\n",
    "#_\n",
    "# Zusammenfassen der Koord. aller Punkte in einer Matrix\n",
    "# (später fürs Plotten benötigt)\n",
    "joints = sp.Matrix.hstack(B1, G1, G2, E, B2)\n",
    "#_\n",
    "# Kettenschlussbedingung (2 skalare Gleichungen)\n",
    "constraints = sp.Matrix([E - B2])\n",
    "pass #!"
   ]
  },
  {
   "cell_type": "markdown",
   "metadata": {},
   "source": [
    "`end kinematik2`"
   ]
  },
  {
   "cell_type": "code",
   "execution_count": 18,
   "metadata": {},
   "outputs": [],
   "source": [
    "# nicht direkt im Buch, um ungerenderten LaTeX-Code in Ausgabe zu vermeiden\n",
    "# stattdessen wird der LaTeX-Code in das Buch-Dokument kopiert."
   ]
  },
  {
   "cell_type": "markdown",
   "metadata": {},
   "source": [
    "`begin kinematik3`"
   ]
  },
  {
   "cell_type": "code",
   "execution_count": 19,
   "metadata": {},
   "outputs": [],
   "source": [
    "#!print(sp.latex(sp.Eq(constraints, sp.Matrix([0, 0]))))"
   ]
  },
  {
   "cell_type": "markdown",
   "metadata": {},
   "source": [
    "`end kinematik3`"
   ]
  },
  {
   "cell_type": "code",
   "execution_count": 20,
   "metadata": {},
   "outputs": [
    {
     "name": "stdout",
     "output_type": "stream",
     "text": [
      "\\left[\\begin{matrix}0.3 \\cos{\\left(\\theta_{1} \\right)} + 0.6 \\cos{\\left(\\theta_{1} + \\theta_{2} \\right)} + 0.7 \\cos{\\left(\\theta_{1} + \\theta_{2} + \\theta_{3} \\right)} - 0.9\\\\0.3 \\sin{\\left(\\theta_{1} \\right)} + 0.6 \\sin{\\left(\\theta_{1} + \\theta_{2} \\right)} + 0.7 \\sin{\\left(\\theta_{1} + \\theta_{2} + \\theta_{3} \\right)}\\end{matrix}\\right] = \\left[\\begin{matrix}0\\\\0\\end{matrix}\\right]\n"
     ]
    }
   ],
   "source": [
    "print(sp.latex(sp.Eq(constraints, sp.Matrix([0, 0])) ))"
   ]
  },
  {
   "cell_type": "markdown",
   "metadata": {},
   "source": [
    "`begin kinematik4`"
   ]
  },
  {
   "cell_type": "code",
   "execution_count": 21,
   "metadata": {},
   "outputs": [
    {
     "data": {
      "text/plain": [
       "<function _lambdifygenerated(theta1, theta2, theta3)>"
      ]
     },
     "execution_count": 21,
     "metadata": {},
     "output_type": "execute_result"
    }
   ],
   "source": [
    "# Umwandeln symb. Ausdrücke in aufrufbare Funktionen\n",
    "c_func = sp.lambdify(ttheta, constraints, modules=\"numpy\")"
   ]
  },
  {
   "cell_type": "markdown",
   "metadata": {},
   "source": [
    "`end kinematik4`"
   ]
  },
  {
   "cell_type": "markdown",
   "metadata": {},
   "source": [
    "`begin kinematik5`"
   ]
  },
  {
   "cell_type": "code",
   "execution_count": 22,
   "metadata": {},
   "outputs": [],
   "source": [
    "# Zielfunktion für Minimierung\n",
    "def target_func(X, theta1):    \n",
    "    # \"Kettenschluss-Fehlervektor\":\n",
    "    err = c_func(theta1, X[0], X[1])\n",
    "    return err[0]**2 + err[1]**2"
   ]
  },
  {
   "cell_type": "markdown",
   "metadata": {},
   "source": [
    "`end kinematik5`"
   ]
  },
  {
   "cell_type": "markdown",
   "metadata": {},
   "source": [
    "`begin kinematik6`"
   ]
  },
  {
   "cell_type": "code",
   "execution_count": 23,
   "metadata": {},
   "outputs": [
    {
     "data": {
      "text/plain": [
       "array([[0.23137085],\n",
       "       [1.13137085]])"
      ]
     },
     "execution_count": 23,
     "metadata": {},
     "output_type": "execute_result"
    }
   ],
   "source": [
    "# isolierter Test der Nebenbedingungen u. Minimierung\n",
    "from scipy.optimize import fmin\n",
    "#_\n",
    "# Startwert und zugehörige -schätzung (0, 0)\n",
    "ttheta0 = [0.25*np.pi, 0, 0]\n",
    "#_\n",
    "# Auswertung des Fehlervektors\n",
    "err = c_func(*ttheta0)"
   ]
  },
  {
   "cell_type": "code",
   "execution_count": 24,
   "metadata": {},
   "outputs": [
    {
     "data": {
      "text/plain": [
       "array([1.33353247])"
      ]
     },
     "execution_count": 24,
     "metadata": {},
     "output_type": "execute_result"
    }
   ],
   "source": [
    "#_\n",
    "# Zielfunktion (Betragsquadrat von err)\n",
    "target_func(ttheta0[1:], ttheta0[0])"
   ]
  },
  {
   "cell_type": "markdown",
   "metadata": {},
   "source": [
    "`end kinematik6`"
   ]
  },
  {
   "cell_type": "markdown",
   "metadata": {},
   "source": [
    "`begin kinematik7`"
   ]
  },
  {
   "cell_type": "code",
   "execution_count": 25,
   "metadata": {},
   "outputs": [
    {
     "name": "stdout",
     "output_type": "stream",
     "text": [
      "Optimization terminated successfully.\n",
      "         Current function value: 0.000000\n",
      "         Iterations: 82\n",
      "         Function evaluations: 149\n"
     ]
    },
    {
     "data": {
      "text/plain": [
       "array([-2.18923901,  1.97689051])"
      ]
     },
     "execution_count": 25,
     "metadata": {},
     "output_type": "execute_result"
    }
   ],
   "source": [
    "# Test der Minimierung\n",
    "res = fmin(target_func, x0=ttheta0[1:], args=(ttheta0[0],))"
   ]
  },
  {
   "cell_type": "markdown",
   "metadata": {},
   "source": [
    "`end kinematik7`"
   ]
  },
  {
   "cell_type": "code",
   "execution_count": 26,
   "metadata": {},
   "outputs": [],
   "source": [
    "set_cmap_cycler(3)"
   ]
  },
  {
   "cell_type": "markdown",
   "metadata": {},
   "source": [
    "`begin kinematik8`"
   ]
  },
  {
   "cell_type": "code",
   "execution_count": 27,
   "metadata": {},
   "outputs": [
    {
     "data": {
      "image/png": "[encoded data removed]",
      "text/plain": [
       "<Figure size 432x288 with 1 Axes>"
      ]
     },
     "metadata": {
      "needs_background": "light"
     },
     "output_type": "display_data"
    }
   ],
   "source": [
    "# isolierter Test des Plottens\n",
    "# Umwandeln symb. Ausdrücke in aufrufbare Funktionen\n",
    "j_func = sp.lambdify(ttheta, joints, modules=\"numpy\")\n",
    "#_\n",
    "# Auswerten -> Array mit shape=(2, 5)\n",
    "jc = joint_coords = j_func(ttheta0[0], *res)\n",
    "#_\n",
    "plt.plot(jc[0, :], jc[1, :], \"o\", ms=7) # dunkle Kreise, Größe 7\n",
    "plt.plot(jc[0, :], jc[1, :], \"-\") # helle linien\n",
    "#_\n",
    "plt.axis([-0.7, 1.3, -0.8, 0.4])\n",
    "show_book(\"viergelenk_plot1\") #!"
   ]
  },
  {
   "cell_type": "markdown",
   "metadata": {},
   "source": [
    "`end kinematik8`"
   ]
  },
  {
   "cell_type": "markdown",
   "metadata": {},
   "source": [
    "Test der Minimierung mit anderer Startschätzung"
   ]
  },
  {
   "cell_type": "code",
   "execution_count": 28,
   "metadata": {},
   "outputs": [
    {
     "name": "stdout",
     "output_type": "stream",
     "text": [
      "Optimization terminated successfully.\n",
      "         Current function value: 0.000000\n",
      "         Iterations: 45\n",
      "         Function evaluations: 86\n"
     ]
    },
    {
     "data": {
      "text/plain": [
       "array([ 0.02016544, -1.97692043])"
      ]
     },
     "execution_count": 28,
     "metadata": {},
     "output_type": "execute_result"
    }
   ],
   "source": [
    "# Test der Minimierung mit anderer Startschätzung\n",
    "\n",
    "res = fmin(target_func, x0=[0, -2], args=(ttheta0[0],))"
   ]
  },
  {
   "cell_type": "code",
   "execution_count": 29,
   "metadata": {},
   "outputs": [
    {
     "data": {
      "text/plain": [
       "(-0.5, 1.4, -0.4, 0.9)"
      ]
     },
     "execution_count": 29,
     "metadata": {},
     "output_type": "execute_result"
    },
    {
     "data": {
      "image/png": "[encoded data removed]",
      "text/plain": [
       "<Figure size 432x288 with 1 Axes>"
      ]
     },
     "metadata": {
      "needs_background": "light"
     },
     "output_type": "display_data"
    }
   ],
   "source": [
    "jc = joint_coords = j_func(ttheta0[0], *res)\n",
    "\n",
    "plt.plot(jc[0, :], jc[1, :], \"o\", ms=7) # schw. Kreise, Größe 7\n",
    "plt.plot(jc[0, :], jc[1, :], \"-\") # blaue linien\n",
    "\n",
    "plt.axis(\"equal\") # gleiche Skalierung für beide Achsen\n",
    "plt.axis([-0.5, 1.4, -0.4, 0.9])"
   ]
  },
  {
   "cell_type": "markdown",
   "metadata": {},
   "source": [
    "---\n",
    "\n",
    "In der statischen (im Web abrufbaren) Version des Notebooks ist das folgende interaktive Widget zum manuellen verändern der Konfiguration des Viergelenkgetriebes nicht enthalten. Um es zu aktivieren muss das Notebook auf einem Notebook-Server ausgeführt werden, siehe Kapitel 2 »Installation und Inbetriebnahme«."
   ]
  },
  {
   "cell_type": "markdown",
   "metadata": {},
   "source": [
    "`begin kinematik9`"
   ]
  },
  {
   "cell_type": "code",
   "execution_count": 30,
   "metadata": {},
   "outputs": [
    {
     "data": {
      "application/vnd.jupyter.widget-view+json": {
       "model_id": "9f57a579e512441c8eb9e6cd0beff3a5",
       "version_major": 2,
       "version_minor": 0
      },
      "text/plain": [
       "interactive(children=(FloatSlider(value=3.0, description='theta1num', max=7.0, step=0.2), Output()), _dom_clas…"
      ]
     },
     "metadata": {},
     "output_type": "display_data"
    }
   ],
   "source": [
    "# Interaktion zwischen Optimierung und Gleichungslösung\n",
    "from ipywidgets import interact\n",
    "\n",
    "@interact(theta1num=(0, 7, 0.2)) # (min, max, step)\n",
    "def plot_func(theta1num):\n",
    "    res = fmin(target_func, x0=[0, 0], args=(theta1num,), disp=0)\n",
    "    # disp=0 deaktiviert die Statusausgaben von fmin\n",
    "    \n",
    "    # das wird ein Array mit shape=(2, 5)\n",
    "    jc = j_func(theta1num, *res) # Gelenkkoord. (joint coords)\n",
    "\n",
    "    plt.plot(jc[0, :], jc[1, :], \"o\", ms=7)\n",
    "    plt.plot(jc[0, :], jc[1, :], \"-\")  \n",
    "    plt.axis(\"equal\")\n",
    "    plt.axis([-0.7, 1.3, -0.8, 0.4])\n",
    "interact_fname = \"viergelenk_interact\" #!\n",
    "show_book(interact_fname, saveandshow=False) #!"
   ]
  },
  {
   "cell_type": "markdown",
   "metadata": {},
   "source": [
    "`end kinematik9`"
   ]
  },
  {
   "cell_type": "code",
   "execution_count": 31,
   "metadata": {},
   "outputs": [],
   "source": [
    "# Erzeugung kommt nicht ins Buch, Grafik schon\n",
    "# Zwiebelschalen-Grafik (Anpassung der Alpha-Werte)"
   ]
  },
  {
   "cell_type": "code",
   "execution_count": 32,
   "metadata": {},
   "outputs": [],
   "source": [
    "set_cmap_cycler(2, end=0.4)"
   ]
  },
  {
   "cell_type": "code",
   "execution_count": 33,
   "metadata": {},
   "outputs": [
    {
     "data": {
      "image/png": "[encoded data removed]",
      "text/plain": [
       "<Figure size 432x288 with 1 Axes>"
      ]
     },
     "metadata": {
      "needs_background": "light"
     },
     "output_type": "display_data"
    }
   ],
   "source": [
    "N = 17\n",
    "theta1_values = np.linspace(0, 2, N)*np.pi\n",
    "alpha_values = np.linspace(0.5, 1, N)\n",
    "\n",
    "\n",
    "def plot_func(theta1num, alpha):\n",
    "    res = fmin(target_func, x0=[0, 0], args=(theta1num,), disp=0)\n",
    "\n",
    "    # das wird ein array mit shape=(2, 5)\n",
    "    jc = joint_coords = j_func(theta1num, *res)\n",
    "\n",
    "    plt.plot(jc[0, :], jc[1, :], \"o\", ms=7, alpha=alpha)\n",
    "    plt.plot(jc[0, :], jc[1, :], \"-\", alpha=alpha)  \n",
    "    plt.axis(\"equal\")\n",
    "    plt.axis([-0.7, 1.3, -0.8, 0.4])\n",
    "\n",
    "\n",
    "# gemeinsam über theta1-Werte und alpha-Werte iteriern\n",
    "for theta1num, alpha in zip(theta1_values[::1], alpha_values):\n",
    "    plot_func(theta1num, alpha**2)\n",
    "\n",
    "show_book(interact_fname, saveandshow=True) #!"
   ]
  },
  {
   "cell_type": "code",
   "execution_count": 34,
   "metadata": {},
   "outputs": [
    {
     "data": {
      "text/plain": [
       "0.7853981633974483"
      ]
     },
     "execution_count": 34,
     "metadata": {},
     "output_type": "execute_result"
    }
   ],
   "source": [
    "theta1num = np.pi/4"
   ]
  },
  {
   "cell_type": "markdown",
   "metadata": {},
   "source": [
    "`begin kinematik10`"
   ]
  },
  {
   "cell_type": "code",
   "execution_count": 35,
   "metadata": {},
   "outputs": [],
   "source": [
    "assert target_func(res, theta1num) < 1e-5"
   ]
  },
  {
   "cell_type": "markdown",
   "metadata": {},
   "source": [
    "`end kinematik10`"
   ]
  },
  {
   "cell_type": "markdown",
   "metadata": {},
   "source": [
    "Koppelkurve"
   ]
  },
  {
   "cell_type": "markdown",
   "metadata": {},
   "source": [
    "`begin kinematik11`"
   ]
  },
  {
   "cell_type": "code",
   "execution_count": 36,
   "metadata": {},
   "outputs": [],
   "source": [
    "# Erinnerung: G1 = B1 + R(theta1)*ex*l1\n",
    "\n",
    "kx, ky = 0.25, 0.45\n",
    "\n",
    "# Hilfspunkt (für verständlichere Visualisierung)\n",
    "H = G1 + R(theta1 + theta2)*ex*kx\n",
    "# Betrachteter Punkt auf der Koppel (mit ey ⊥ ex):\n",
    "K = H + R(theta1 + theta2)*ey*ky\n",
    "\n",
    "k_func = sp.lambdify(ttheta, K, modules=\"numpy\")\n",
    "\n",
    "N = 40\n",
    "theta1_values = np.linspace(0, 2, N)*np.pi\n",
    "KK = []\n",
    "for theta1num in theta1_values:\n",
    "    res = fmin(target_func, x0=[0, 0], args=(theta1num,), disp=0)\n",
    "    KK.append(k_func(theta1num, *res))\n",
    "# plotten (ausgeblendet)\n",
    "koppelkurve_fname = \"viergelenk_koppelkurve\" #!\n",
    "show_book(koppelkurve_fname, saveandshow=False) #!"
   ]
  },
  {
   "cell_type": "markdown",
   "metadata": {},
   "source": [
    "`end kinematik11`"
   ]
  },
  {
   "cell_type": "code",
   "execution_count": 37,
   "metadata": {},
   "outputs": [
    {
     "data": {
      "image/png": "[encoded data removed]",
      "text/plain": [
       "<Figure size 432x288 with 1 Axes>"
      ]
     },
     "metadata": {
      "needs_background": "light"
     },
     "output_type": "display_data"
    }
   ],
   "source": [
    "h_func = sp.lambdify(ttheta, H, modules=\"numpy\")\n",
    "\n",
    "# list -> array (shape: 2 x N)\n",
    "KK = np.column_stack(KK)\n",
    "\n",
    "plt.plot(KK[0, :], KK[1, :])\n",
    "\n",
    "\n",
    "theta1num = -1.3\n",
    "res = fmin(target_func, x0=[0, 0], args=(theta1num,), disp=0)\n",
    "jc = joint_coords = j_func(theta1num, *res)\n",
    "hc = h_func(theta1num, *res)\n",
    "kc = k_func(theta1num, *res)\n",
    "\n",
    "hkc = np.column_stack([hc, kc])\n",
    "\n",
    "\n",
    "plt.plot(hkc[0, :], hkc[1, :], \"ko\", ms=3)  # graue Sechsecke\n",
    "\n",
    "plt.plot(jc[0, :], jc[1, :], \"ko\", ms=7) # schw. Kreise, Größe 7\n",
    "plt.plot(jc[0, :], jc[1, :], \"b-\") # blaue linien\n",
    "plt.plot(hkc[0, :], hkc[1, :], \"b-\", lw=3) # blaue linien\n",
    "\n",
    "dy = -.12\n",
    "plt.text(hc[0, :], hc[1, :]+dy, \"$H$\")\n",
    "plt.text(kc[0, :], kc[1, :]+dy, \"$K$\")\n",
    "\n",
    "\n",
    "txt = [\"$B_1$\", \"$G_1$\", \"$G_2$\", \"$G_3=B_2$\", \"\"]\n",
    "for i, arr in enumerate(jc.T):\n",
    "    plt.text(arr[:1] -.1+.03*i , arr[1:] + dy, txt[i])\n",
    "\n",
    "\n",
    "plt.axis(\"equal\")\n",
    "plt.axis([-0.5, 1.5, -0.8, 0.45])\n",
    "show_book(koppelkurve_fname, saveandshow=True)"
   ]
  },
  {
   "cell_type": "markdown",
   "metadata": {},
   "source": [
    "### Dynamik – Lagrange-Gleichungen 2. Art (Beispiel: Dreifachpendel)"
   ]
  },
  {
   "cell_type": "markdown",
   "metadata": {},
   "source": [
    "`begin lagrange1`"
   ]
  },
  {
   "cell_type": "code",
   "execution_count": 38,
   "metadata": {},
   "outputs": [],
   "source": [
    "s1, s2, m1, m2, l1, l2, g, t = \\\n",
    "                sp.symbols(\"s1, s2, m1, m2, l1, l2, g, t\")"
   ]
  },
  {
   "cell_type": "code",
   "execution_count": 39,
   "metadata": {},
   "outputs": [],
   "source": [
    "# Gelenkwinkel (= Relativwinkel)\n",
    "# angelegt als Zeitfunktionen (und nicht als Symbol),\n",
    "# damit später die totale Zeitableitung d/dt anwendbar ist\n",
    "theta1 = sp.Function(\"theta1\")(t)\n",
    "theta2 = sp.Function(\"theta2\")(t)\n",
    "#_\n",
    "# Einheitsvektor in y-Richtung\n",
    "ey = sp.Matrix([0, 1])\n",
    "#_\n",
    "# Koordinatenursprung\n",
    "O = sp.Matrix([0, 0]) \n",
    "#_\n",
    "# Schwerpunkt1:\n",
    "S1 = O + R(theta1)*(-ey)*s1\n",
    "#_\n",
    "# Gelenk1: \n",
    "G1 = O + R(theta1)*(-ey)*l1\n",
    "#_\n",
    "# Schwerpunkt2:\n",
    "S2 = G1 + R(theta1+theta2)*(-ey)*s2\n",
    "#_\n",
    "# Gelenk2 (nur für grafische Darstellung): \n",
    "G2 = G1 + R(theta1+theta2)*(-ey)*l2\n",
    "pass #!"
   ]
  },
  {
   "cell_type": "markdown",
   "metadata": {},
   "source": [
    "`end lagrange1`"
   ]
  },
  {
   "cell_type": "markdown",
   "metadata": {},
   "source": [
    "`begin lagrange2`"
   ]
  },
  {
   "cell_type": "code",
   "execution_count": 40,
   "metadata": {},
   "outputs": [],
   "source": [
    "# potenzielle Energie (unnormiert)\n",
    "V_tmp = m1*g*S1[1] + m2*g*S2[1]\n",
    "#_\n",
    "# normieren, sodass V >= 0\n",
    "V = V_tmp - V_tmp.subs([(theta1, 0), (theta2, 0)])\n",
    "pass #!"
   ]
  },
  {
   "cell_type": "markdown",
   "metadata": {},
   "source": [
    "`end lagrange2`"
   ]
  },
  {
   "cell_type": "markdown",
   "metadata": {},
   "source": [
    "`begin lagrange3`"
   ]
  },
  {
   "cell_type": "code",
   "execution_count": 41,
   "metadata": {},
   "outputs": [],
   "source": [
    "# Schwerpunktsgeschwindigkeiten\n",
    "S1d = S1.diff(t)\n",
    "S2d = S2.diff(t)\n",
    "#_\n",
    "# kinetische Energie\n",
    "T_tmp = m1/2*S1d.T*S1d + m2/2*S2d.T*S2d\n",
    "#_\n",
    "# Umwandeln: 1x1-Matrix -> skalarer Ausdruck\n",
    "T = T_tmp[0, 0]\n",
    "pass #!"
   ]
  },
  {
   "cell_type": "markdown",
   "metadata": {},
   "source": [
    "`end lagrange3`"
   ]
  },
  {
   "cell_type": "markdown",
   "metadata": {},
   "source": [
    "`begin lagrange4`"
   ]
  },
  {
   "cell_type": "code",
   "execution_count": 42,
   "metadata": {},
   "outputs": [
    {
     "name": "stdout",
     "output_type": "stream",
     "text": [
      "94\n"
     ]
    }
   ],
   "source": [
    "# Lagrange-Funktion\n",
    "L = T - V\n",
    "print(L.count_ops())"
   ]
  },
  {
   "cell_type": "markdown",
   "metadata": {},
   "source": [
    "`end lagrange4`"
   ]
  },
  {
   "cell_type": "markdown",
   "metadata": {},
   "source": [
    "`begin lagrange5`"
   ]
  },
  {
   "cell_type": "code",
   "execution_count": 43,
   "metadata": {},
   "outputs": [],
   "source": [
    "thetadot1 = theta1.diff(t)\n",
    "thetadot2 = theta2.diff(t)\n",
    "#_\n",
    "alpha1 = L.diff(thetadot1)\n",
    "alpha2 = L.diff(thetadot2)\n",
    "#_\n",
    "beta1 = alpha1.diff(t)\n",
    "beta2 = alpha2.diff(t)\n",
    "#_\n",
    "gamma1 = L.diff(theta1)\n",
    "gamma2 = L.diff(theta2)\n",
    "pass #!"
   ]
  },
  {
   "cell_type": "markdown",
   "metadata": {},
   "source": [
    "`end lagrange5`"
   ]
  },
  {
   "cell_type": "markdown",
   "metadata": {},
   "source": [
    "`begin lagrange6`"
   ]
  },
  {
   "cell_type": "code",
   "execution_count": 44,
   "metadata": {},
   "outputs": [
    {
     "data": {
      "text/latex": [
       "$\\displaystyle \\left[\\begin{matrix}145\\\\101\\end{matrix}\\right]$"
      ],
      "text/plain": [
       "Matrix([\n",
       "[145],\n",
       "[101]])"
      ]
     },
     "execution_count": 44,
     "metadata": {},
     "output_type": "execute_result"
    }
   ],
   "source": [
    "# Zusammenfassen der \"equations of motion\"\n",
    "ee = sp.Matrix([beta1 - gamma1, beta2 - gamma2])\n",
    "ee.applyfunc(sp.count_ops)"
   ]
  },
  {
   "cell_type": "markdown",
   "metadata": {},
   "source": [
    "`end lagrange6`"
   ]
  },
  {
   "cell_type": "markdown",
   "metadata": {},
   "source": [
    "`begin lagrange7`"
   ]
  },
  {
   "cell_type": "code",
   "execution_count": 45,
   "metadata": {},
   "outputs": [],
   "source": [
    "# Beschleunigungen\n",
    "thetaddot1 = thetadot1.diff(t)\n",
    "thetaddot2 = thetadot2.diff(t)\n",
    "pass #!"
   ]
  },
  {
   "cell_type": "code",
   "execution_count": 46,
   "metadata": {},
   "outputs": [
    {
     "data": {
      "text/latex": [
       "$\\displaystyle \\left[\\begin{matrix}61 & 39\\\\33 & 17\\end{matrix}\\right]$"
      ],
      "text/plain": [
       "Matrix([\n",
       "[61, 39],\n",
       "[33, 17]])"
      ]
     },
     "execution_count": 46,
     "metadata": {},
     "output_type": "execute_result"
    }
   ],
   "source": [
    "# Massenmatrix\n",
    "M = ee.jacobian([thetaddot1, thetaddot2])\n",
    "M.applyfunc(sp.count_ops)"
   ]
  },
  {
   "cell_type": "code",
   "execution_count": 47,
   "metadata": {},
   "outputs": [
    {
     "data": {
      "text/latex": [
       "$\\displaystyle \\left[\\begin{matrix}70\\\\56\\end{matrix}\\right]$"
      ],
      "text/plain": [
       "Matrix([\n",
       "[70],\n",
       "[56]])"
      ]
     },
     "execution_count": 47,
     "metadata": {},
     "output_type": "execute_result"
    }
   ],
   "source": [
    "# Vektor der Coriolis- und Zentrifugalterme\n",
    "C = ee.subs([(thetaddot1, 0), (thetaddot2, 0), (g, 0)])\n",
    "C.applyfunc(sp.count_ops)"
   ]
  },
  {
   "cell_type": "code",
   "execution_count": 48,
   "metadata": {},
   "outputs": [
    {
     "data": {
      "text/latex": [
       "$\\displaystyle \\left[\\begin{matrix}17\\\\7\\end{matrix}\\right]$"
      ],
      "text/plain": [
       "Matrix([\n",
       "[17],\n",
       "[ 7]])"
      ]
     },
     "execution_count": 48,
     "metadata": {},
     "output_type": "execute_result"
    }
   ],
   "source": [
    "# Vektor Potenzialterme (bzw. alles was übrig bleibt)\n",
    "K = ee - M*sp.Matrix([thetaddot1, thetaddot2]) - C\n",
    "K.simplify()\n",
    "K.applyfunc(sp.count_ops)"
   ]
  },
  {
   "cell_type": "markdown",
   "metadata": {},
   "source": [
    "`end lagrange7`"
   ]
  },
  {
   "cell_type": "markdown",
   "metadata": {},
   "source": [
    "`begin lagrange8`"
   ]
  },
  {
   "cell_type": "code",
   "execution_count": 49,
   "metadata": {},
   "outputs": [
    {
     "data": {
      "text/latex": [
       "$\\displaystyle \\left[\\begin{matrix}0\\\\0\\end{matrix}\\right]$"
      ],
      "text/plain": [
       "Matrix([\n",
       "[0],\n",
       "[0]])"
      ]
     },
     "execution_count": 49,
     "metadata": {},
     "output_type": "execute_result"
    }
   ],
   "source": [
    "# Plausibilitätsprüfung:\n",
    "# Potenzialterme müssen für g = 0 verschwinden\n",
    "K.subs(g, 0)"
   ]
  },
  {
   "cell_type": "markdown",
   "metadata": {},
   "source": [
    "`end lagrange8`"
   ]
  },
  {
   "cell_type": "markdown",
   "metadata": {},
   "source": [
    "`begin lagrange9`"
   ]
  },
  {
   "cell_type": "code",
   "execution_count": 50,
   "metadata": {},
   "outputs": [
    {
     "data": {
      "text/latex": [
       "$\\displaystyle \\left[\\begin{matrix}403\\\\482\\end{matrix}\\right]$"
      ],
      "text/plain": [
       "Matrix([\n",
       "[403],\n",
       "[482]])"
      ]
     },
     "execution_count": 50,
     "metadata": {},
     "output_type": "execute_result"
    }
   ],
   "source": [
    "ffbar = M.inv()*(-C-K)\n",
    "ffbar.applyfunc(sp.count_ops)"
   ]
  },
  {
   "cell_type": "markdown",
   "metadata": {},
   "source": [
    "`end lagrange9`"
   ]
  },
  {
   "cell_type": "markdown",
   "metadata": {},
   "source": [
    "`begin lagrange10`"
   ]
  },
  {
   "cell_type": "code",
   "execution_count": 51,
   "metadata": {},
   "outputs": [
    {
     "data": {
      "text/plain": [
       "[(theta1(t), x1),\n",
       " (theta2(t), x2),\n",
       " (Derivative(theta1(t), t), x3),\n",
       " (Derivative(theta2(t), t), x4)]"
      ]
     },
     "execution_count": 51,
     "metadata": {},
     "output_type": "execute_result"
    }
   ],
   "source": [
    "# Zustand einführen\n",
    "x1, x2, x3, x4 = xx = sp.symbols(\"x1:5\")\n",
    "#_\n",
    "# Funktionen und Ableitungen ersetzen\n",
    "replacements = [(theta1, x1), (theta2, x2),\n",
    "                (thetadot1, x3), (thetadot2, x4)]"
   ]
  },
  {
   "cell_type": "code",
   "execution_count": 52,
   "metadata": {},
   "outputs": [
    {
     "data": {
      "text/latex": [
       "$\\displaystyle \\left[\\begin{matrix}289\\\\358\\end{matrix}\\right]$"
      ],
      "text/plain": [
       "Matrix([\n",
       "[289],\n",
       "[358]])"
      ]
     },
     "execution_count": 52,
     "metadata": {},
     "output_type": "execute_result"
    }
   ],
   "source": [
    "# Umkehrung, damit Derivative-Objekte zuerst ersetzt werden\n",
    "replacements.reverse()\n",
    "ffbar_s = ffbar.subs(replacements)\n",
    "ffbar_s.applyfunc(sp.count_ops)"
   ]
  },
  {
   "cell_type": "markdown",
   "metadata": {},
   "source": [
    "`end lagrange10`"
   ]
  },
  {
   "cell_type": "markdown",
   "metadata": {},
   "source": [
    "Interessant, aber zu detailliert fürs Buch"
   ]
  },
  {
   "cell_type": "markdown",
   "metadata": {},
   "source": [
    "`begin lagrange10-subsreihenfolge`"
   ]
  },
  {
   "cell_type": "code",
   "execution_count": 53,
   "metadata": {},
   "outputs": [
    {
     "data": {
      "text/latex": [
       "$\\displaystyle \\theta_{1}{\\left(t \\right)} + 2 \\frac{d}{d t} \\theta_{1}{\\left(t \\right)} + 3 \\frac{d^{2}}{d t^{2}} \\theta_{1}{\\left(t \\right)}$"
      ],
      "text/plain": [
       "theta1(t) + 2*Derivative(theta1(t), t) + 3*Derivative(theta1(t), (t, 2))"
      ]
     },
     "execution_count": 53,
     "metadata": {},
     "output_type": "execute_result"
    }
   ],
   "source": [
    "test = theta1 + 2*thetadot1 + 3*thetaddot1"
   ]
  },
  {
   "cell_type": "code",
   "execution_count": 54,
   "metadata": {},
   "outputs": [
    {
     "data": {
      "text/latex": [
       "$\\displaystyle x_{1} + 2 \\frac{d}{d t} x_{1} + 3 \\frac{d^{2}}{d t^{2}} x_{1}$"
      ],
      "text/plain": [
       "x1 + 2*Derivative(x1, t) + 3*Derivative(x1, (t, 2))"
      ]
     },
     "execution_count": 54,
     "metadata": {},
     "output_type": "execute_result"
    }
   ],
   "source": [
    "test_s_falsch = test.subs([(theta1, x1), (thetadot1, x3), (thetaddot1, sp.Symbol(\"z\"))])"
   ]
  },
  {
   "cell_type": "code",
   "execution_count": 55,
   "metadata": {},
   "outputs": [
    {
     "data": {
      "text/latex": [
       "$\\displaystyle x_{1}$"
      ],
      "text/plain": [
       "x1"
      ]
     },
     "execution_count": 55,
     "metadata": {},
     "output_type": "execute_result"
    }
   ],
   "source": [
    "# Auswertung der Ableitungen nach t\n",
    "test_s_falsch.doit()"
   ]
  },
  {
   "cell_type": "code",
   "execution_count": 56,
   "metadata": {},
   "outputs": [
    {
     "data": {
      "text/latex": [
       "$\\displaystyle x_{1} + 2 x_{3} + 3 z$"
      ],
      "text/plain": [
       "x1 + 2*x3 + 3*z"
      ]
     },
     "execution_count": 56,
     "metadata": {},
     "output_type": "execute_result"
    }
   ],
   "source": [
    "test_s_richtig = test.subs([(thetaddot1, sp.Symbol(\"z\")), (thetadot1, x3), (theta1, x1)])"
   ]
  },
  {
   "cell_type": "markdown",
   "metadata": {},
   "source": [
    "`end lagrange10-subsreihenfolge`"
   ]
  },
  {
   "cell_type": "markdown",
   "metadata": {},
   "source": [
    "`begin lagrange11`"
   ]
  },
  {
   "cell_type": "code",
   "execution_count": 57,
   "metadata": {},
   "outputs": [
    {
     "data": {
      "text/latex": [
       "$\\displaystyle \\left[\\begin{matrix}0 & 0 & 289 & 358\\end{matrix}\\right]$"
      ],
      "text/plain": [
       "Matrix([[0, 0, 289, 358]])"
      ]
     },
     "execution_count": 57,
     "metadata": {},
     "output_type": "execute_result"
    }
   ],
   "source": [
    "ff = sp.Matrix([x3, x4]).col_join(ffbar_s)\n",
    "ff.applyfunc(sp.count_ops).T # .T, um Platz zu sparen"
   ]
  },
  {
   "cell_type": "markdown",
   "metadata": {},
   "source": [
    "`end lagrange11`"
   ]
  },
  {
   "cell_type": "markdown",
   "metadata": {},
   "source": [
    "`begin lagrange12`"
   ]
  },
  {
   "cell_type": "code",
   "execution_count": 58,
   "metadata": {},
   "outputs": [
    {
     "data": {
      "text/latex": [
       "$\\displaystyle \\left[\\begin{matrix}0 & 0 & 197 & 219\\end{matrix}\\right]$"
      ],
      "text/plain": [
       "Matrix([[0, 0, 197, 219]])"
      ]
     },
     "execution_count": 58,
     "metadata": {},
     "output_type": "execute_result"
    }
   ],
   "source": [
    "# Substitution der Systemparameter\n",
    "param_values = [(g, 9.81), (l1, 1), (l2, 1),\n",
    "                (s1, 0.8), (s2, 0.6), (m1, 0.5), (m2, 0.3)]\n",
    "#_\n",
    "ffnum = ff.subs(param_values)\n",
    "ffnum.applyfunc(sp.count_ops).T # .T um Platz zu sparen"
   ]
  },
  {
   "cell_type": "code",
   "execution_count": 59,
   "metadata": {},
   "outputs": [
    {
     "data": {
      "text/plain": [
       "{x1, x2, x3, x4}"
      ]
     },
     "execution_count": 59,
     "metadata": {},
     "output_type": "execute_result"
    }
   ],
   "source": [
    "# Plausibilitätsprüfung: es dürfen nur noch \n",
    "# die Zustandskomponenten als Symbole auftreten\n",
    "ffnum.atoms(sp.Symbol)"
   ]
  },
  {
   "cell_type": "code",
   "execution_count": 60,
   "metadata": {},
   "outputs": [
    {
     "data": {
      "text/plain": [
       "<function _lambdifygenerated(x1, x2, x3, x4)>"
      ]
     },
     "execution_count": 60,
     "metadata": {},
     "output_type": "execute_result"
    }
   ],
   "source": [
    "#_\n",
    "# Umwandeln in ausführbare Funktion\n",
    "ff_func = sp.lambdify(xx, list(ffnum), modules=\"numpy\")"
   ]
  },
  {
   "cell_type": "code",
   "execution_count": 61,
   "metadata": {},
   "outputs": [
    {
     "data": {
      "text/plain": [
       "[3, 4, 1.843345725633971, -16.511615105822568]"
      ]
     },
     "execution_count": 61,
     "metadata": {},
     "output_type": "execute_result"
    }
   ],
   "source": [
    "#_\n",
    "# Test der Funktion mit \"zufälligen\" Werten\n",
    "ff_func(1, 2, 3, 4) "
   ]
  },
  {
   "cell_type": "markdown",
   "metadata": {},
   "source": [
    "`end lagrange12`"
   ]
  },
  {
   "cell_type": "markdown",
   "metadata": {},
   "source": [
    "`begin lagrange13`"
   ]
  },
  {
   "cell_type": "code",
   "execution_count": 62,
   "metadata": {},
   "outputs": [
    {
     "data": {
      "text/plain": [
       "[0.0, 0.0, -4.18252408101756, -5.7276948588654335]"
      ]
     },
     "execution_count": 62,
     "metadata": {},
     "output_type": "execute_result"
    }
   ],
   "source": [
    "def rhs(t, xx):\n",
    "    # \"right hand side\" von xxdot = f(xx)\n",
    "    # t wird ignoriert\n",
    "    # Zustand xx wird entpackt\n",
    "    return ff_func(*xx)\n",
    "#_\n",
    "# Festlegung eines Anfangszustands\n",
    "xx0 = np.array([np.pi*0.8, -np.pi*0.2, 0, 0])\n",
    "#_\n",
    "# Test der rhs-Funktion für Anfangszustand\n",
    "rhs(0, xx0)"
   ]
  },
  {
   "cell_type": "markdown",
   "metadata": {},
   "source": [
    "`end lagrange13`"
   ]
  },
  {
   "cell_type": "markdown",
   "metadata": {},
   "source": [
    "`begin lagrange14`"
   ]
  },
  {
   "cell_type": "code",
   "execution_count": 63,
   "metadata": {},
   "outputs": [],
   "source": [
    "from scipy.integrate import solve_ivp\n",
    "#_\n",
    "tt = np.linspace(0, 10, 1000)\n",
    "# maximale Schrittweite begrenzen für bessere Genauigkeit\n",
    "res = solve_ivp(rhs, (0, tt[-1]), xx0, t_eval=tt, max_step=0.01)\n",
    "pass #!"
   ]
  },
  {
   "cell_type": "code",
   "execution_count": 64,
   "metadata": {},
   "outputs": [
    {
     "data": {
      "image/png": "[encoded data removed]",
      "text/plain": [
       "<Figure size 432x288 with 1 Axes>"
      ]
     },
     "metadata": {
      "needs_background": "light"
     },
     "output_type": "display_data"
    }
   ],
   "source": [
    "plt.plot(res.t, res.y[0, :]/np.pi*180, label=r\"$\\theta_1$\")\n",
    "plt.plot(res.t, res.y[1, :]/np.pi*180, label=r\"$\\theta_2$\")\n",
    "plt.legend()\n",
    "plt.xlabel(\"$t$ in s\") #!\n",
    "plt.ylabel(r\"$\\theta_i$ in ${}^\\circ$\") #!\n",
    "show_book(\"doppelpendel_ttheta_von_t\") #!"
   ]
  },
  {
   "cell_type": "markdown",
   "metadata": {},
   "source": [
    "`end lagrange14`"
   ]
  },
  {
   "cell_type": "markdown",
   "metadata": {},
   "source": [
    "`begin lagrange15`"
   ]
  },
  {
   "cell_type": "code",
   "execution_count": 65,
   "metadata": {},
   "outputs": [],
   "source": [
    "Eges = (T+V).subs(param_values+replacements)\n",
    "Eges_func = sp.lambdify(xx, Eges)\n",
    "pass #!"
   ]
  },
  {
   "cell_type": "code",
   "execution_count": 66,
   "metadata": {},
   "outputs": [
    {
     "data": {
      "image/png": "[encoded data removed]",
      "text/plain": [
       "<Figure size 432x288 with 1 Axes>"
      ]
     },
     "metadata": {
      "needs_background": "light"
     },
     "output_type": "display_data"
    }
   ],
   "source": [
    "plt.plot(tt, Eges_func(*res.y))\n",
    "plt.ylim(-1, 20) #!\n",
    "plt.xlabel(\"$t$ in s\") #!\n",
    "plt.ylabel(r\"$E_\\mathrm{ges}$ in J\") #!\n",
    "show_book(\"Eges_von_t\") #!"
   ]
  },
  {
   "cell_type": "markdown",
   "metadata": {},
   "source": [
    "`end lagrange15`"
   ]
  },
  {
   "cell_type": "markdown",
   "metadata": {},
   "source": [
    "Länger simulieren für 3D-Darstellung (nicht im Buch, aber trotzdem interessant)"
   ]
  },
  {
   "cell_type": "code",
   "execution_count": 67,
   "metadata": {},
   "outputs": [],
   "source": [
    "tt = np.linspace(0, 100, 10000)\n",
    "res = solve_ivp(rhs, (0, tt[-1]),  xx0*0.71, t_eval=tt, max_step=0.01)\n",
    "pass # Leere Anweisung um unerwünschte Ausgabe am Zellenende zu vermeiden"
   ]
  },
  {
   "cell_type": "code",
   "execution_count": 68,
   "metadata": {},
   "outputs": [
    {
     "data": {
      "text/plain": [
       "array([[ 1.78442463e+00,  1.78387538e+00,  1.78222684e+00, ...,\n",
       "        -5.79338034e-01, -6.17624723e-01, -6.56288350e-01],\n",
       "       [ 1.17289627e+00,  1.13105256e+00,  1.08843179e+00, ...,\n",
       "        -1.74623187e+00, -1.75850104e+00, -1.76963436e+00],\n",
       "       [ 2.00315958e-02, -1.72050342e-03, -2.53005521e-02, ...,\n",
       "        -1.55189887e+00, -1.52714647e+00, -1.50104159e+00]])"
      ]
     },
     "execution_count": 68,
     "metadata": {},
     "output_type": "execute_result"
    }
   ],
   "source": [
    "N = 300\n",
    "\n",
    "XX = np.row_stack([res.y[0, :-N*2], res.y[0, N:-N], res.y[0, 2*N:]])"
   ]
  },
  {
   "cell_type": "code",
   "execution_count": 69,
   "metadata": {},
   "outputs": [
    {
     "data": {
      "text/plain": [
       "[<mpl_toolkits.mplot3d.art3d.Line3D at 0x7f7fe6d66df0>]"
      ]
     },
     "execution_count": 69,
     "metadata": {},
     "output_type": "execute_result"
    },
    {
     "data": {
      "image/png": "[encoded data removed]",
      "text/plain": [
       "<Figure size 1224x1224 with 1 Axes>"
      ]
     },
     "metadata": {
      "needs_background": "light"
     },
     "output_type": "display_data"
    }
   ],
   "source": [
    "fig = plt.figure(figsize=(17, 17))\n",
    "ax = fig.add_subplot(111, projection='3d')\n",
    "\n",
    "ax.plot(res.y[0, :], res.y[1, :], res.y[2, :], lw=3, alpha=0.3)\n",
    "# ax.plot(XX[0, :], XX[1, :], XX[2, :], lw=3)"
   ]
  },
  {
   "cell_type": "code",
   "execution_count": 70,
   "metadata": {},
   "outputs": [
    {
     "data": {
      "text/plain": [
       "(-1.0, 20.0)"
      ]
     },
     "execution_count": 70,
     "metadata": {},
     "output_type": "execute_result"
    },
    {
     "data": {
      "image/png": "[encoded data removed]",
      "text/plain": [
       "<Figure size 432x288 with 1 Axes>"
      ]
     },
     "metadata": {
      "needs_background": "light"
     },
     "output_type": "display_data"
    }
   ],
   "source": [
    "# Energieerhaltung überprüfen (nicht erfüllt, wenn Schrittweite zu groß ist!)\n",
    "\n",
    "plt.plot(Eges_func(*res.y))\n",
    "plt.ylim(-1, 20)"
   ]
  }
 ],
 "metadata": {
  "kernelspec": {
   "display_name": "Python 3",
   "language": "python",
   "name": "python3"
  },
  "language_info": {
   "codemirror_mode": {
    "name": "ipython",
    "version": 3
   },
   "file_extension": ".py",
   "mimetype": "text/x-python",
   "name": "python",
   "nbconvert_exporter": "python",
   "pygments_lexer": "ipython3",
   "version": "3.8.6"
  }
 },
 "nbformat": 4,
 "nbformat_minor": 4
}
