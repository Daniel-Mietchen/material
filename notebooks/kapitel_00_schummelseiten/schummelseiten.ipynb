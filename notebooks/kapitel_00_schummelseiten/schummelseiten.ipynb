{
 "cells": [
  {
   "cell_type": "markdown",
   "metadata": {},
   "source": [
    "# »Schummelseiten«\n",
    "\n",
    "Dieses Jupyter-Notebook enthält den Quelltext für die Schnellreferenz-Seiten (»Schummelseiten«) im Buch [Python für Ingenieure für Dummies](https://python-fuer-ingenieure.de/)."
   ]
  },
  {
   "cell_type": "code",
   "execution_count": 1,
   "metadata": {},
   "outputs": [],
   "source": [
    "from scipy.integrate import solve_ivp\n",
    "import matplotlib.pyplot as plt\n",
    "import numpy as np"
   ]
  },
  {
   "cell_type": "markdown",
   "metadata": {},
   "source": [
    "`begin simulation1 --input_prefix=\"\"`"
   ]
  },
  {
   "cell_type": "code",
   "execution_count": 2,
   "metadata": {},
   "outputs": [],
   "source": [
    "from scipy.integrate\\\n",
    "        import solve_ivp\n",
    "\n",
    "def ho_rhs(t, xx):\n",
    "    # Harmonischer Oszillator\n",
    "    x1, x2 = xx\n",
    "    xdot1 = x2\n",
    "    xdot2 = -x1\n",
    "    return xdot1, xdot2\n",
    "\n",
    "x0 = [1, 0]\n",
    "res = solve_ivp(ho_rhs,\n",
    "                (0, 30), x0)\n",
    "#!plt.plot(res.t, res.y[0, :])"
   ]
  },
  {
   "cell_type": "markdown",
   "metadata": {},
   "source": [
    "`end`"
   ]
  },
  {
   "cell_type": "markdown",
   "metadata": {},
   "source": [
    "`begin optimierung1 --input_prefix=\"\"`"
   ]
  },
  {
   "cell_type": "code",
   "execution_count": 3,
   "metadata": {},
   "outputs": [],
   "source": [
    "from scipy.optimize\\\n",
    "        import minimize\n",
    "\n",
    "def targetfunc(xx):\n",
    "    # quadratische Zielfunktion\n",
    "    x1, x2 = xx\n",
    "    return (x1-3)**2+(x2+4)**2\n",
    "\n",
    "x0 = [0, 0]\n",
    "res = minimize(targetfunc, x0)\n",
    "assert res.success\n",
    "#!print(res.x)"
   ]
  },
  {
   "cell_type": "markdown",
   "metadata": {},
   "source": [
    "`end`"
   ]
  },
  {
   "cell_type": "markdown",
   "metadata": {},
   "source": [
    "`begin funktionsapprox1 --input_prefix=\"\"`"
   ]
  },
  {
   "cell_type": "code",
   "execution_count": 4,
   "metadata": {},
   "outputs": [],
   "source": [
    "from scipy.optimize\\\n",
    "        import curve_fit\n",
    "\n",
    "xx = np.linspace(0, 10)\n",
    "yy = -4*np.sin(1.5*xx + 2)\n",
    "\n",
    "# Amplitude, Kreisfrequenz\n",
    "# und Phase schätzen\n",
    "def func(xx, a, omega, phi):\n",
    "    return a*np.sin(omega*xx \\\n",
    "                    + phi)\n",
    "\n",
    "res = curve_fit(func, xx, yy)\n",
    "assert np.allclose(res[1], 0)"
   ]
  },
  {
   "cell_type": "markdown",
   "metadata": {},
   "source": [
    "`end`"
   ]
  },
  {
   "cell_type": "code",
   "execution_count": 5,
   "metadata": {},
   "outputs": [
    {
     "data": {
      "text/plain": [
       "[<matplotlib.lines.Line2D at 0x7fbb38225bb0>]"
      ]
     },
     "execution_count": 5,
     "metadata": {},
     "output_type": "execute_result"
    },
    {
     "data": {
      "image/png": "[encoded data removed]",
      "text/plain": [
       "<Figure size 432x288 with 1 Axes>"
      ]
     },
     "metadata": {
      "needs_background": "light"
     },
     "output_type": "display_data"
    }
   ],
   "source": [
    "plt.plot(xx, yy)\n",
    "plt.plot(xx, func(xx, *res[0]))"
   ]
  },
  {
   "cell_type": "markdown",
   "metadata": {},
   "source": [
    "`begin itertools1 --input_prefix=\"\"`"
   ]
  },
  {
   "cell_type": "code",
   "execution_count": 6,
   "metadata": {},
   "outputs": [
    {
     "name": "stdout",
     "output_type": "stream",
     "text": [
      "# -> [(0, 0), (0, 1), (1, 0), (1, 1)]\n"
     ]
    }
   ],
   "source": [
    "import itertools as it\n",
    "# Reihenfolge: ja, Wiederholung: ja\n",
    "print(\"# ->\", list(#!\n",
    "it.product([0, 1], repeat=2)\n",
    ")) #!"
   ]
  },
  {
   "cell_type": "code",
   "execution_count": 7,
   "metadata": {},
   "outputs": [
    {
     "name": "stdout",
     "output_type": "stream",
     "text": [
      "# -> [(2, 3), (3, 2)]\n"
     ]
    }
   ],
   "source": [
    "# Reihenfolge: ja, Wiederholung: nein\n",
    "print(\"# ->\", list(#!\n",
    "it.permutations([2, 3])\n",
    ")) #!"
   ]
  },
  {
   "cell_type": "code",
   "execution_count": 8,
   "metadata": {},
   "outputs": [
    {
     "name": "stdout",
     "output_type": "stream",
     "text": [
      "# -> [(4, 5), (4, 6), (5, 6)]\n"
     ]
    }
   ],
   "source": [
    "# Reihenfolge: nein, Wiederholung: nein\n",
    "print(\"# ->\", list(#!\n",
    "it.combinations([4, 5, 6], 2)\n",
    ")) #!"
   ]
  },
  {
   "cell_type": "code",
   "execution_count": 9,
   "metadata": {},
   "outputs": [
    {
     "name": "stdout",
     "output_type": "stream",
     "text": [
      "# -> [(7, 7), (7, 8), (8, 8)]\n"
     ]
    }
   ],
   "source": [
    "# Reihenfolge: nein, Wiederholung: ja\n",
    "print(\"# ->\", list(#!\n",
    "it.combinations_with_replacement([7, 8], 2)\n",
    ")) #!"
   ]
  },
  {
   "cell_type": "markdown",
   "metadata": {},
   "source": [
    "`end`"
   ]
  },
  {
   "cell_type": "code",
   "execution_count": 10,
   "metadata": {},
   "outputs": [],
   "source": [
    "def externer_funktionsaufruf():\n",
    "    return 1"
   ]
  },
  {
   "cell_type": "markdown",
   "metadata": {},
   "source": [
    "`begin annahmenpruefung --input_prefix=\"\"`"
   ]
  },
  {
   "cell_type": "code",
   "execution_count": 11,
   "metadata": {},
   "outputs": [],
   "source": [
    "x = externer_funktionsaufruf()\n",
    "assert x > 0\n",
    "# oder:\n",
    "if not x >0:\n",
    "    msg = \"erwarte x > 0!\"\n",
    "    raise ValueError(msg)"
   ]
  },
  {
   "cell_type": "markdown",
   "metadata": {},
   "source": [
    "`end`"
   ]
  },
  {
   "cell_type": "markdown",
   "metadata": {},
   "source": [
    "`begin unittest1 --input_prefix=\"\"`"
   ]
  },
  {
   "cell_type": "code",
   "execution_count": 12,
   "metadata": {},
   "outputs": [],
   "source": [
    "import unittest as ut\n",
    "\n",
    "class Test1(ut.TestCase):\n",
    "    def testcore(self):\n",
    "        self.\\\n",
    "        assertEqual(1, 1)\n",
    "        \n",
    "#!ut.main()"
   ]
  },
  {
   "cell_type": "markdown",
   "metadata": {},
   "source": [
    "`end`"
   ]
  },
  {
   "cell_type": "code",
   "execution_count": 13,
   "metadata": {},
   "outputs": [
    {
     "name": "stdout",
     "output_type": "stream",
     "text": [
      ".\r\n",
      "----------------------------------------------------------------------\r\n",
      "Ran 1 test in 0.000s\r\n",
      "\r\n",
      "OK\r\n"
     ]
    }
   ],
   "source": [
    "# Probe: Das fürs Buch generierte Schnipsel wird als Pythonskript ausgeführt.\n",
    "# (Nachträglich auskommentiert, um unabhängig von Schnipsel-Erzeungungung zu sein).\n",
    "# !python3 kapitel_schummelseiten_unittest1.snip.txt"
   ]
  },
  {
   "cell_type": "markdown",
   "metadata": {},
   "source": [
    " ... interessant ist aber trotzdem, dass mit vorangestelltem `!` ein beliebiger Kommandozeilenbefehl aus einem Jupyter-Notebook ausgeführt werden kann:"
   ]
  },
  {
   "cell_type": "code",
   "execution_count": 14,
   "metadata": {},
   "outputs": [
    {
     "name": "stdout",
     "output_type": "stream",
     "text": [
      "Python 3.8.6\r\n"
     ]
    }
   ],
   "source": [
    "!python3 --version"
   ]
  },
  {
   "cell_type": "code",
   "execution_count": 15,
   "metadata": {},
   "outputs": [
    {
     "name": "stdout",
     "output_type": "stream",
     "text": [
      "Do 30. Sep 20:00:49 CEST 2021\r\n"
     ]
    }
   ],
   "source": [
    "!date"
   ]
  }
 ],
 "metadata": {
  "kernelspec": {
   "display_name": "Python 3",
   "language": "python",
   "name": "python3"
  },
  "language_info": {
   "codemirror_mode": {
    "name": "ipython",
    "version": 3
   },
   "file_extension": ".py",
   "mimetype": "text/x-python",
   "name": "python",
   "nbconvert_exporter": "python",
   "pygments_lexer": "ipython3",
   "version": "3.8.6"
  }
 },
 "nbformat": 4,
 "nbformat_minor": 4
}
