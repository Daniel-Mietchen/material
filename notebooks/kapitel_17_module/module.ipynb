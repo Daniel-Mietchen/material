{
 "cells": [
  {
   "cell_type": "markdown",
   "metadata": {},
   "source": [
    "# Die 10 nützlichsten Module, die bisher nicht erwähnt wurden\n",
    "\n",
    "\n",
    "Dieses Jupyter-Notebook enthält den Quelltext für Kapitel 17 »Die 10 nützlichsten Module, die bisher nicht erwähnt wurden« im Buch [Python für Ingenieure für Dummies](https://python-fuer-ingenieure.de/)."
   ]
  },
  {
   "cell_type": "markdown",
   "metadata": {},
   "source": [
    "### argparse"
   ]
  },
  {
   "cell_type": "markdown",
   "metadata": {},
   "source": [
    "`begin argparse_help`"
   ]
  },
  {
   "cell_type": "code",
   "execution_count": 1,
   "metadata": {},
   "outputs": [
    {
     "name": "stdout",
     "output_type": "stream",
     "text": [
      "usage: my_script.py [-h] [--save] path\r\n",
      "\r\n",
      "Lädt Datei und führt Berechnung aus\r\n",
      "\r\n",
      "positional arguments:\r\n",
      "  path        Dateipfad\r\n",
      "\r\n",
      "optional arguments:\r\n",
      "  -h, --help  show this help message and exit\r\n",
      "  --save, -s  Ergebnis abspeichern\r\n"
     ]
    }
   ],
   "source": [
    "!python my_script.py -h #!\n",
    "#!python my_script.py -h"
   ]
  },
  {
   "cell_type": "markdown",
   "metadata": {},
   "source": [
    "`end`"
   ]
  },
  {
   "cell_type": "markdown",
   "metadata": {},
   "source": [
    "`begin argparse_call`"
   ]
  },
  {
   "cell_type": "code",
   "execution_count": 2,
   "metadata": {},
   "outputs": [
    {
     "name": "stdout",
     "output_type": "stream",
     "text": [
      "path: C:\\beispiel.txt\n",
      "save: True\n"
     ]
    }
   ],
   "source": [
    "#!python my_script.py C:\\beispiel.txt -s\n",
    "print(\"path: C:\\\\beispiel.txt\\nsave: True\") #!"
   ]
  },
  {
   "cell_type": "markdown",
   "metadata": {},
   "source": [
    "`end`"
   ]
  },
  {
   "cell_type": "markdown",
   "metadata": {},
   "source": [
    "### pickle"
   ]
  },
  {
   "cell_type": "markdown",
   "metadata": {},
   "source": [
    "`begin pickle_dump`"
   ]
  },
  {
   "cell_type": "code",
   "execution_count": 3,
   "metadata": {},
   "outputs": [],
   "source": [
    "import pickle\n",
    "# Ein hart erarbeitetes Simulationsergebnis\n",
    "dict_to_save = {\n",
    "    \"iterations\": 51684,\n",
    "    \"value\": [16.48, 7985.915]\n",
    "}\n",
    "# Datei öffnen im Modus \"Schreiben (w)\" und \"Binär (b)\"\n",
    "f = open('saved.pck', 'wb')\n",
    "# Dictionary in Datei schreiben\n",
    "pickle.dump(dict_to_save, f)\n",
    "# Datei schließen\n",
    "f.close()"
   ]
  },
  {
   "cell_type": "markdown",
   "metadata": {},
   "source": [
    "`end`"
   ]
  },
  {
   "cell_type": "markdown",
   "metadata": {},
   "source": [
    "`begin pickle_load`"
   ]
  },
  {
   "cell_type": "code",
   "execution_count": 4,
   "metadata": {},
   "outputs": [
    {
     "name": "stdout",
     "output_type": "stream",
     "text": [
      "{'iterations': 51684, 'value': [16.48, 7985.915]}\n"
     ]
    }
   ],
   "source": [
    "# Datei im Modus \"Binär-Lesen (r)\" öffnen\n",
    "f = open('saved.pck', 'rb')\n",
    "loaded_dict = pickle.load(f)  # Objekt aus Datei laden\n",
    "f.close()\n",
    "print(loaded_dict)"
   ]
  },
  {
   "cell_type": "markdown",
   "metadata": {},
   "source": [
    "`end`"
   ]
  },
  {
   "cell_type": "markdown",
   "metadata": {},
   "source": [
    "### datetime"
   ]
  },
  {
   "cell_type": "markdown",
   "metadata": {},
   "source": [
    "`begin datetime`"
   ]
  },
  {
   "cell_type": "code",
   "execution_count": 5,
   "metadata": {},
   "outputs": [
    {
     "data": {
      "text/plain": [
       "2069901720.0"
      ]
     },
     "execution_count": 5,
     "metadata": {},
     "output_type": "execute_result"
    }
   ],
   "source": [
    "import datetime\n",
    "# Eastern Standard Time\n",
    "est = datetime.timezone(datetime.timedelta(hours=-5))\n",
    "# Erster erfolgreicher Flug der Brüder Wright\n",
    "wright_flight = datetime.datetime(1903, 12, 17, 10, 35,\n",
    "                                  tzinfo=est)\n",
    "# Eastern Daylight Time\n",
    "edt = datetime.timezone(datetime.timedelta(hours=-4))\n",
    "# Touchdown auf dem Mond mit Apollo 11\n",
    "moon_landing = datetime.datetime(1969, 7, 20, 16, 17,\n",
    "                                 tzinfo=edt)\n",
    "#_\n",
    "difference = moon_landing - wright_flight\n",
    "difference.total_seconds()"
   ]
  },
  {
   "cell_type": "markdown",
   "metadata": {},
   "source": [
    "`end`"
   ]
  },
  {
   "cell_type": "markdown",
   "metadata": {},
   "source": [
    "### re (regular expressions; reguläre Ausdrücke)"
   ]
  },
  {
   "cell_type": "markdown",
   "metadata": {},
   "source": [
    "`begin regex`"
   ]
  },
  {
   "cell_type": "code",
   "execution_count": 6,
   "metadata": {},
   "outputs": [
    {
     "name": "stdout",
     "output_type": "stream",
     "text": [
      "Zeitstempel: 16:30:02.512\n",
      "Kraft: 4.764\n"
     ]
    }
   ],
   "source": [
    "import re\n",
    "read_line = \"a1> 16:30:02.512 4.764 N\"  # Ausgabe von Laborgerät\n",
    "# Regex-Muster der erwarteten Ausgaben mit in Klammern markierten\n",
    "# interessanten Bereichen (Gruppen)\n",
    "pattern = r\"^a1> (\\d{2}:\\d{2}:\\d{2}\\.\\d+) (\\d+(?:\\.\\d+)?) N$\"\n",
    "# Ausgabe mit Muster abgleichen\n",
    "result = re.match(pattern, read_line)\n",
    "print(\"Zeitstempel:\", result.group(1))\n",
    "print(\"Kraft:\", result.group(2))"
   ]
  },
  {
   "cell_type": "markdown",
   "metadata": {},
   "source": [
    "`end`"
   ]
  },
  {
   "cell_type": "markdown",
   "metadata": {},
   "source": [
    "### Typing"
   ]
  },
  {
   "cell_type": "markdown",
   "metadata": {},
   "source": [
    "`begin typing --input_prefix=\"\"`"
   ]
  },
  {
   "cell_type": "code",
   "execution_count": 7,
   "metadata": {},
   "outputs": [],
   "source": [
    "from typing import List\n",
    "# Folgende Funktion akzeptiert eine Liste von Floats und gibt\n",
    "# einen String zurück. Argumenttypen werden mit \"name: Typ\"\n",
    "# markiert, der Rückgabetyp nach einem Pfeil geschrieben \"-> Typ\".\n",
    "def format_list(values: List[float]) -> str:\n",
    "    return \"[\" + \", \".join(f\"{v:.1f}\" for v in values) + \"]\""
   ]
  },
  {
   "cell_type": "code",
   "execution_count": 8,
   "metadata": {},
   "outputs": [],
   "source": [
    "#!format_list([4.8, 15.16, 23.42])"
   ]
  },
  {
   "cell_type": "markdown",
   "metadata": {},
   "source": [
    "`end typing`"
   ]
  },
  {
   "cell_type": "markdown",
   "metadata": {},
   "source": [
    "### Inspect"
   ]
  },
  {
   "cell_type": "markdown",
   "metadata": {},
   "source": [
    "`begin inspect`"
   ]
  },
  {
   "cell_type": "code",
   "execution_count": 9,
   "metadata": {},
   "outputs": [],
   "source": [
    "import inspect"
   ]
  },
  {
   "cell_type": "code",
   "execution_count": 10,
   "metadata": {},
   "outputs": [],
   "source": [
    "my_list = []"
   ]
  },
  {
   "cell_type": "code",
   "execution_count": 11,
   "metadata": {},
   "outputs": [
    {
     "name": "stdout",
     "output_type": "stream",
     "text": [
      "Built-in mutable sequence.\n",
      "\n",
      "If no argument is given, the constructor creates a new empty list.\n",
      "The argument must be an iterable if specified.\n"
     ]
    }
   ],
   "source": [
    "print(inspect.getdoc(my_list))  # Dokumentation ausgeben"
   ]
  },
  {
   "cell_type": "code",
   "execution_count": 12,
   "metadata": {},
   "outputs": [
    {
     "name": "stdout",
     "output_type": "stream",
     "text": [
      "[('__add__', <method-wrapper '__add__' of list object at 0x...>),\n",
      " ('__class__', list),\n",
      " ...\n",
      " ('reverse', <function list.reverse()>),\n",
      " ('sort', <function list.sort(*, key=None, reverse=False)>)]\n"
     ]
    }
   ],
   "source": [
    "\n",
    "# Alle Attribute und Methoden des Objekts\n",
    "inspect.getmembers(my_list)\n",
    "print(\"[('__add__', <method-wrapper '__add__' of list object at 0x...>),\\n ('__class__', list),\\n ...\\n ('reverse', <function list.reverse()>),\\n ('sort', <function list.sort(*, key=None, reverse=False)>)]\")#!"
   ]
  },
  {
   "cell_type": "markdown",
   "metadata": {},
   "source": [
    "`end`"
   ]
  }
 ],
 "metadata": {
  "kernelspec": {
   "display_name": "Python 3",
   "language": "python",
   "name": "python3"
  },
  "language_info": {
   "codemirror_mode": {
    "name": "ipython",
    "version": 3
   },
   "file_extension": ".py",
   "mimetype": "text/x-python",
   "name": "python",
   "nbconvert_exporter": "python",
   "pygments_lexer": "ipython3",
   "version": "3.8.6"
  }
 },
 "nbformat": 4,
 "nbformat_minor": 4
}
